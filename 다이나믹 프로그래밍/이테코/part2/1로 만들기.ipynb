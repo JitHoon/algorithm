{
 "cells": [
  {
   "cell_type": "markdown",
   "metadata": {},
   "source": [
    "217p"
   ]
  },
  {
   "cell_type": "markdown",
   "metadata": {},
   "source": [
    "#### `점화식`\n",
    "##### `D[i] = min(D[i-1], D[i//5], D[i//3], D[i//2]) + 1`\n",
    "- 각 이전 연산들 중 가장 적은 연산 횟수의 값을 저장"
   ]
  },
  {
   "cell_type": "code",
   "execution_count": 5,
   "metadata": {},
   "outputs": [
    {
     "name": "stdout",
     "output_type": "stream",
     "text": [
      "3\n"
     ]
    }
   ],
   "source": [
    "X = int(input())\n",
    "\n",
    "# 문제에서 제시된 정수 범위 만큼 메모리 확보\n",
    "table = [0] * 30001\n",
    "\n",
    "# 초기값\n",
    "table[1] = 0\n",
    "table[2] = 1\n",
    "\n",
    "for i in range(3, X+1):\n",
    "    # -1 의 경우를 미리 계산하여 min() 연산 시 반복 연산 방지\n",
    "    table[i] = table[i-1] + 1\n",
    "    # 5로 나누어 떨어질 경우\n",
    "    if table[i] % 5 == 0:\n",
    "        table[i] = min(table[i], table[i//5] + 1)\n",
    "    # 3으로 나누어 떨어질 경우\n",
    "    if table[i] % 3 == 0:\n",
    "        table[i] = min(table[i], table[i//3] + 1)\n",
    "    # 2로 나누어 떨어질 경우\n",
    "    if table[i] % 2 == 0:\n",
    "        table[i] = min(table[i], table[i//2] + 1)\n",
    "    \n",
    "print(table[X])"
   ]
  }
 ],
 "metadata": {
  "interpreter": {
   "hash": "b0fa6594d8f4cbf19f97940f81e996739fb7646882a419484c72d19e05852a7e"
  },
  "kernelspec": {
   "display_name": "Python 3.9.13 64-bit",
   "language": "python",
   "name": "python3"
  },
  "language_info": {
   "codemirror_mode": {
    "name": "ipython",
    "version": 3
   },
   "file_extension": ".py",
   "mimetype": "text/x-python",
   "name": "python",
   "nbconvert_exporter": "python",
   "pygments_lexer": "ipython3",
   "version": "3.9.13"
  },
  "orig_nbformat": 4
 },
 "nbformat": 4,
 "nbformat_minor": 2
}
