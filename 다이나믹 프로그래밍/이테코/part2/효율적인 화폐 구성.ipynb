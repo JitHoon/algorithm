{
 "cells": [
  {
   "cell_type": "markdown",
   "metadata": {},
   "source": [
    "226p"
   ]
  },
  {
   "cell_type": "markdown",
   "metadata": {},
   "source": [
    "#### `점화식`\n",
    "##### `D[i][j] = min(D[j], D[j - coin[i]] + 1)`\n",
    "- i : 현재 연산중인 coin\n",
    "- j : 거스름돈 지불이 가능한 금액"
   ]
  },
  {
   "cell_type": "code",
   "execution_count": null,
   "metadata": {},
   "outputs": [],
   "source": [
    "# 3,7\n",
    "N, M = map(int, input().split())\n",
    "# [2, 3, 5]\n",
    "coin = [int(input()) for _ in range(N)]\n",
    "\n",
    "# [0, 7, 7, 7, 7, 7, 7, 7]\n",
    "table = [M] * (M+1)\n",
    "table[0] = 0\n",
    "\n",
    "# 0~2 까지\n",
    "for i in range(N):\n",
    "    # 2 ~ 7까지\n",
    "    # 3 ~ 7까지\n",
    "    # 5 ~ 7까지\n",
    "    # coin보다 작은 값은 거스름돈으로 지불할 수 없다.\n",
    "    for j in range(coin[i], M+1):\n",
    "        table[j] = min(table[j], table[j - coin[i]] + 1)\n",
    "\n",
    "if table[M] == M:\n",
    "    print(-1)\n",
    "else:\n",
    "    print(table[M])"
   ]
  }
 ],
 "metadata": {
  "interpreter": {
   "hash": "b0fa6594d8f4cbf19f97940f81e996739fb7646882a419484c72d19e05852a7e"
  },
  "kernelspec": {
   "display_name": "Python 3.9.13 64-bit",
   "language": "python",
   "name": "python3"
  },
  "language_info": {
   "codemirror_mode": {
    "name": "ipython",
    "version": 3
   },
   "file_extension": ".py",
   "mimetype": "text/x-python",
   "name": "python",
   "nbconvert_exporter": "python",
   "pygments_lexer": "ipython3",
   "version": "3.9.13"
  },
  "orig_nbformat": 4
 },
 "nbformat": 4,
 "nbformat_minor": 2
}
