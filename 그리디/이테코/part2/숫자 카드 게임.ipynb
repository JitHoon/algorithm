{
 "cells": [
  {
   "cell_type": "markdown",
   "metadata": {},
   "source": [
    "96p"
   ]
  },
  {
   "cell_type": "code",
   "execution_count": null,
   "metadata": {},
   "outputs": [],
   "source": [
    "for tc in range(1, int(input())+1):\n",
    "    N, M = map(int, input().split()); game_max = 0\n",
    "    \n",
    "    # 각 행마다 가장 작은 수를 찾은 뒤에 그 수 중에서 가장 큰 수\n",
    "    for _ in range(N):\n",
    "        row_min = min(list(map(int, input().split())))\n",
    "        if game_max < row_min:\n",
    "            game_max = row_min\n",
    "\n",
    "    print(f\"{game_max}\")"
   ]
  }
 ],
 "metadata": {
  "interpreter": {
   "hash": "b0fa6594d8f4cbf19f97940f81e996739fb7646882a419484c72d19e05852a7e"
  },
  "kernelspec": {
   "display_name": "Python 3.9.13 64-bit",
   "language": "python",
   "name": "python3"
  },
  "language_info": {
   "name": "python",
   "version": "3.9.13"
  },
  "orig_nbformat": 4
 },
 "nbformat": 4,
 "nbformat_minor": 2
}
