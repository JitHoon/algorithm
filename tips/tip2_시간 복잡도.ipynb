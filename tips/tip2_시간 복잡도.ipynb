{
 "cells": [
  {
   "cell_type": "markdown",
   "metadata": {},
   "source": [
    "List의 경우, `len(list1) = N, len(list2) = K`일 때\n",
    "\n",
    "- `list1.append(1)`: O(1)\n",
    "- `list1 = 1 + list1`:  O(N)\n",
    "    \n",
    "    > 새로운 리스트를 만들어서 재할당.\n",
    "    \n",
    "- `list = list1 + list2`: O(N+K)\n",
    "- `list1.extend(list2)`: O(K)\n",
    "- `list1 += list2`: O(K)\n",
    "    \n",
    "    > +=를 알아서 extend로 수행, list2가 아니라 정수라면 append로 수행해 O(1) \n",
    "    \n",
    "시간초과가 난다면 `Pypy3`를 사용하자."
   ]
  }
 ],
 "metadata": {
  "language_info": {
   "name": "python"
  }
 },
 "nbformat": 4,
 "nbformat_minor": 2
}
