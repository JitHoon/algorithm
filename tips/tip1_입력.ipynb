{
 "cells": [
  {
   "cell_type": "markdown",
   "metadata": {},
   "source": [
    "> 한 줄을 백만 번 입력 받는 것 보다, 백만 줄을 한 번 입력 받는 것이 더 빠르다.  \n",
    "출력도 마찬가지이므로, 개행문자를 포함한 문자열을 만들어서 한 번에 출력하자."
   ]
  },
  {
   "cell_type": "code",
   "execution_count": null,
   "metadata": {},
   "outputs": [],
   "source": [
    "import sys\n",
    "\n",
    "input_data = sys.stdin.readline().rstrip()"
   ]
  },
  {
   "cell_type": "code",
   "execution_count": null,
   "metadata": {},
   "outputs": [],
   "source": [
    "# 한개의 정수를 입력 받을 때\n",
    "import sys\n",
    "a = int(sys.stdin.readline());"
   ]
  },
  {
   "cell_type": "code",
   "execution_count": null,
   "metadata": {},
   "outputs": [],
   "source": [
    "# 정해진 개수의 정수를 한줄에 입력받을 때\n",
    "import sys\n",
    "a,b,c = map(int,sys.stdin.readline().split())"
   ]
  },
  {
   "cell_type": "code",
   "execution_count": null,
   "metadata": {},
   "outputs": [],
   "source": [
    "# 임의의 개수의 정수를 한줄에 입력받아 리스트에 저장할 때\n",
    "import sys\n",
    "data = list(map(int,sys.stdin.readline().split()))"
   ]
  },
  {
   "cell_type": "code",
   "execution_count": null,
   "metadata": {},
   "outputs": [],
   "source": [
    "# 임의의 개수의 정수를 n줄 입력받아 2차원 리스트에 저장할 때\n",
    "import sys\n",
    "data = []\n",
    "n = int(sys.stdin.readline())\n",
    "for i in range(n):\n",
    "    data.append(list(map(int,sys.stdin.readline().split())))"
   ]
  },
  {
   "cell_type": "code",
   "execution_count": null,
   "metadata": {},
   "outputs": [],
   "source": [
    "# 문자열 n줄을 입력받아 리스트에 저장할 때\n",
    "import sys\n",
    "n = int(sys.stdin.readline())\n",
    "data = [sys.stdin.readline().strip() for i in range(n)]"
   ]
  }
 ],
 "metadata": {
  "kernelspec": {
   "display_name": "Python 3",
   "language": "python",
   "name": "python3"
  },
  "language_info": {
   "name": "python",
   "version": "3.9.13"
  },
  "orig_nbformat": 4
 },
 "nbformat": 4,
 "nbformat_minor": 2
}
