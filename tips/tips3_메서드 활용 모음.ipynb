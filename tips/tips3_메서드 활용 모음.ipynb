{
 "cells": [
  {
   "cell_type": "code",
   "execution_count": 3,
   "metadata": {},
   "outputs": [
    {
     "name": "stdout",
     "output_type": "stream",
     "text": [
      "append deque([1, 2, 3])\n",
      "appendleft deque([0, 1, 2, 3])\n",
      "pop deque([0, 1, 2])\n",
      "popleft deque([1, 2])\n"
     ]
    }
   ],
   "source": [
    "# deque 기본 메서드\n",
    "\n",
    "from collections import deque\n",
    "\n",
    "l = deque([1, 2])\n",
    "\n",
    "l.append(3)\n",
    "print('append', l)\n",
    "\n",
    "l.appendleft(0)\n",
    "print('appendleft', l)\n",
    "\n",
    "l.pop()\n",
    "print('pop', l)\n",
    "\n",
    "l.popleft()\n",
    "print('popleft', l)"
   ]
  },
  {
   "cell_type": "code",
   "execution_count": 15,
   "metadata": {},
   "outputs": [
    {
     "name": "stdout",
     "output_type": "stream",
     "text": [
      "[1, 2, 3, [5, 2]]\n",
      "[1, 5, 3, [5, 2]]\n"
     ]
    }
   ],
   "source": [
    "# python array 얕은 복사\n",
    "\n",
    "test_l = [1, 2, 3, [1, 2]]\n",
    "copy_l = test_l[:]\n",
    "\n",
    "test_l[3][0] = 5 # 복제본 값도 변함\n",
    "test_l[1] = 5 # 원본만 값이 변함\n",
    "\n",
    "print(copy_l)\n",
    "print(test_l)"
   ]
  },
  {
   "cell_type": "code",
   "execution_count": 25,
   "metadata": {},
   "outputs": [
    {
     "name": "stdout",
     "output_type": "stream",
     "text": [
      "[0, 0]\n"
     ]
    }
   ],
   "source": [
    "# 내림차순 (sort, [::-1])\n",
    "\n",
    "l = [7, 5, 12, 20]\n",
    "target = 15\n",
    "\n",
    "answer = [0, 0]\n",
    "\n",
    "for i in l:\n",
    "  check_num = target - i\n",
    "  if (check_num in l) and (check_num != i):\n",
    "    answer = [check_num, i]\n",
    "\n",
    "answer.sort()\n",
    "\n",
    "print(answer)"
   ]
  }
 ],
 "metadata": {
  "kernelspec": {
   "display_name": "Python 3",
   "language": "python",
   "name": "python3"
  },
  "language_info": {
   "codemirror_mode": {
    "name": "ipython",
    "version": 3
   },
   "file_extension": ".py",
   "mimetype": "text/x-python",
   "name": "python",
   "nbconvert_exporter": "python",
   "pygments_lexer": "ipython3",
   "version": "3.9.13"
  }
 },
 "nbformat": 4,
 "nbformat_minor": 2
}
