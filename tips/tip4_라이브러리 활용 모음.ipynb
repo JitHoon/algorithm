{
 "cells": [
  {
   "cell_type": "code",
   "execution_count": 1,
   "metadata": {},
   "outputs": [
    {
     "name": "stdout",
     "output_type": "stream",
     "text": [
      "append deque([1, 2, 3])\n",
      "appendleft deque([0, 1, 2, 3])\n",
      "pop deque([0, 1, 2])\n",
      "popleft deque([1, 2])\n"
     ]
    }
   ],
   "source": [
    "# deque\n",
    "\n",
    "from collections import deque\n",
    "\n",
    "l = deque([1, 2])\n",
    "\n",
    "l.append(3)\n",
    "print('append', l)\n",
    "\n",
    "l.appendleft(0)\n",
    "print('appendleft', l)\n",
    "\n",
    "l.pop()\n",
    "print('pop', l)\n",
    "\n",
    "l.popleft()\n",
    "print('popleft', l)"
   ]
  },
  {
   "cell_type": "code",
   "execution_count": 2,
   "metadata": {},
   "outputs": [
    {
     "name": "stdout",
     "output_type": "stream",
     "text": [
      "defaultdict(<class 'int'>, {})\n",
      "defaultdict(<class 'int'>, {0: 0, 1: 1, 2: 2})\n",
      "Counter({3: 3, 2: 2, 7: 1, 110: 1})\n",
      "2\n",
      "3\n",
      "Counter({'a': 4, 'b': 2, 'c': 1})\n"
     ]
    }
   ],
   "source": [
    "# defaultdict : 주어진 값의 빈도수 확인 시 사용 (dictinary)\n",
    "# Counter : 주어진 값의 빈도수 확인 시 사용 (dictinary)\n",
    "\n",
    "from collections import defaultdict, Counter\n",
    "\n",
    "sH = defaultdict(int)\n",
    "print(sH)\n",
    "\n",
    "for i in range(3):\n",
    "  sH[i] = i\n",
    "\n",
    "print(sH)\n",
    "\n",
    "cH = Counter([2, 2, 3, 3, 3, 7, 110])\n",
    "print(cH)\n",
    "\n",
    "for i in cH:\n",
    "  if cH[i] == i:\n",
    "    print(i)\n",
    "\n",
    "tH = Counter('aabcaab') \n",
    "print(tH)"
   ]
  },
  {
   "cell_type": "code",
   "execution_count": 1,
   "metadata": {},
   "outputs": [
    {
     "name": "stdout",
     "output_type": "stream",
     "text": [
      "[(1, 2), (1, 3), (1, 4), (2, 1), (2, 3), (2, 4), (3, 1), (3, 2), (3, 4), (4, 1), (4, 2), (4, 3)]\n",
      "[(1, 2), (1, 3), (1, 4), (2, 3), (2, 4), (3, 4)]\n"
     ]
    }
   ],
   "source": [
    "# permutations: 순열\n",
    "# combinations: 조합\n",
    "\n",
    "from itertools import permutations, combinations\n",
    "\n",
    "a = [1,2,3,4]\n",
    "per = permutations(a, 2)\n",
    "print(list(per))\n",
    "\n",
    "b = [1,2,3,4]\n",
    "com = combinations(b, 2)\n",
    "print(list(com))"
   ]
  },
  {
   "cell_type": "code",
   "execution_count": 9,
   "metadata": {},
   "outputs": [
    {
     "name": "stdout",
     "output_type": "stream",
     "text": [
      "1\n"
     ]
    }
   ],
   "source": [
    "# list 곱\n",
    "\n",
    "from math import prod\n",
    "\n",
    "prod([1, 2, 3])"
   ]
  }
 ],
 "metadata": {
  "kernelspec": {
   "display_name": "Python 3",
   "language": "python",
   "name": "python3"
  },
  "language_info": {
   "codemirror_mode": {
    "name": "ipython",
    "version": 3
   },
   "file_extension": ".py",
   "mimetype": "text/x-python",
   "name": "python",
   "nbconvert_exporter": "python",
   "pygments_lexer": "ipython3",
   "version": "3.9.13"
  }
 },
 "nbformat": 4,
 "nbformat_minor": 2
}
