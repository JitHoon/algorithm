{
 "cells": [
  {
   "cell_type": "code",
   "execution_count": 15,
   "metadata": {},
   "outputs": [
    {
     "name": "stdout",
     "output_type": "stream",
     "text": [
      "[1, 2, 3, [5, 2]]\n",
      "[1, 5, 3, [5, 2]]\n"
     ]
    }
   ],
   "source": [
    "# python array 얕은 복사\n",
    "\n",
    "test_l = [1, 2, 3, [1, 2]]\n",
    "copy_l = test_l[:]\n",
    "\n",
    "test_l[3][0] = 5 # 복제본 값도 변함\n",
    "test_l[1] = 5 # 원본만 값이 변함\n",
    "\n",
    "print(copy_l)\n",
    "print(test_l)"
   ]
  },
  {
   "cell_type": "code",
   "execution_count": 25,
   "metadata": {},
   "outputs": [
    {
     "name": "stdout",
     "output_type": "stream",
     "text": [
      "[0, 0]\n"
     ]
    }
   ],
   "source": [
    "# 내림차순 (sort, [::-1])\n",
    "\n",
    "l = [7, 5, 12, 20]\n",
    "target = 15\n",
    "\n",
    "answer = [0, 0]\n",
    "\n",
    "for i in l:\n",
    "  check_num = target - i\n",
    "  if (check_num in l) and (check_num != i):\n",
    "    answer = [check_num, i]\n",
    "\n",
    "answer.sort()\n",
    "\n",
    "print(answer)"
   ]
  },
  {
   "cell_type": "code",
   "execution_count": 8,
   "metadata": {},
   "outputs": [
    {
     "name": "stdout",
     "output_type": "stream",
     "text": [
      "{}\n",
      "{'a': 1, 'b': 2, 'c': 3, 'd': 4}\n",
      "1\n",
      "4\n",
      "dict\n",
      "b\n",
      "c\n",
      "d\n",
      "dict.values\n",
      "2\n",
      "3\n",
      "4\n",
      "dict.items\n",
      "b 2\n",
      "c 3\n",
      "d 4\n"
     ]
    }
   ],
   "source": [
    "# Dictionary\n",
    "\n",
    "sH = dict()\n",
    "print(sH)\n",
    "\n",
    "sH = {'a':1, 'b':2, 'c':3, 'd':4}\n",
    "print(sH)\n",
    "print(sH['a'])\n",
    "print(len(sH))\n",
    "\n",
    "del sH['a']\n",
    "\n",
    "print(\"dict\")\n",
    "for key in sH:\n",
    "  print(key)\n",
    "\n",
    "print(\"dict.values\")\n",
    "for value in sH.values():\n",
    "  print(value)\n",
    "\n",
    "print(\"dict.items\")\n",
    "for key, value in sH.items():\n",
    "  print(key, value)"
   ]
  },
  {
   "cell_type": "code",
   "execution_count": 2,
   "metadata": {},
   "outputs": [
    {
     "name": "stdout",
     "output_type": "stream",
     "text": [
      "2\n",
      "0\n",
      "3\n"
     ]
    }
   ],
   "source": [
    "# 방향 이동 및 회전\n",
    "\n",
    "# 상, 우, 하, 좌\n",
    "dx = [-1, 0, 1, 0]\n",
    "dy = [0, 1, 0, -1]\n",
    "\n",
    "# 우를 보고 있음\n",
    "d = 1\n",
    "\n",
    "# 오른쪽으로 90도 회전 = 왼쪽으로 9=270도 회전\n",
    "d = (d+1) % 4\n",
    "print(d)\n",
    "\n",
    "# 오른쪽으로 180도 회전 = 왼쪽으로 180도 회전\n",
    "d = (d+2) % 4\n",
    "print(d)\n",
    "\n",
    "# 오른쪽으로 270도 회전 = 왼쪽으로 90도 회전\n",
    "d = (d+3) % 4\n",
    "print(d)\n",
    "\n",
    "# 상, 우상, 우, 우하, 하, 좌하, 좌, 좌상\n",
    "dx = [-1, -1, 0, 1, 1, 1, 0, -1]\n",
    "dy = [0, 1, 1, 1, 0, -1, -1, -1]"
   ]
  },
  {
   "cell_type": "code",
   "execution_count": 20,
   "metadata": {},
   "outputs": [
    {
     "name": "stdout",
     "output_type": "stream",
     "text": [
      "[[1, 2], [2, 4], [3, 2]]\n",
      "reverse [[3, 2], [2, 4], [1, 2]]\n",
      "key = lambda [[2, 4], [3, 2], [1, 2]]\n",
      "key = lambda 출력 두 개 [[1, 2], [3, 2], [2, 4]]\n",
      "x[1] 기준으로 오름차순, x[1]값이 동일하면 x[0]의 기준으로 오름차순\n",
      "[[1, 2], [2, 4], [3, 2]]\n",
      "[[3, 2], [2, 4], [1, 2]]\n",
      "['a', 'd', 'f', 's']\n",
      "adfs\n"
     ]
    }
   ],
   "source": [
    "# list 정렬\n",
    "\n",
    "l = [[1, 2], [2, 4], [3, 2]]\n",
    "\n",
    "l.sort()\n",
    "print(l)\n",
    "\n",
    "l.sort(reverse = True)\n",
    "print(\"reverse\", l)\n",
    "\n",
    "l.sort(reverse = True, key = lambda x: x[1])\n",
    "# = l.sort(key = lambda x: -x[1])\n",
    "print(\"key = lambda\", l)\n",
    "\n",
    "l.sort(key = lambda x: (x[1], x[0]))\n",
    "print(\"key = lambda 출력 두 개\", l)\n",
    "print(\"x[1] 기준으로 오름차순, x[1]값이 동일하면 x[0]의 기준으로 오름차순\")\n",
    "\n",
    "a = sorted(l) # 새로운 배열\n",
    "print(a)\n",
    "\n",
    "a = a[::-1]\n",
    "print(a)\n",
    "\n",
    "b = sorted('asdf')\n",
    "print(b)\n",
    "print(''.join(b))"
   ]
  }
 ],
 "metadata": {
  "kernelspec": {
   "display_name": "Python 3",
   "language": "python",
   "name": "python3"
  },
  "language_info": {
   "codemirror_mode": {
    "name": "ipython",
    "version": 3
   },
   "file_extension": ".py",
   "mimetype": "text/x-python",
   "name": "python",
   "nbconvert_exporter": "python",
   "pygments_lexer": "ipython3",
   "version": "3.9.13"
  }
 },
 "nbformat": 4,
 "nbformat_minor": 2
}
