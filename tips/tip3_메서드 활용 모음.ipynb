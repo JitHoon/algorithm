{
 "cells": [
  {
   "cell_type": "code",
   "execution_count": 15,
   "metadata": {},
   "outputs": [
    {
     "name": "stdout",
     "output_type": "stream",
     "text": [
      "[1, 2, 3, [5, 2]]\n",
      "[1, 5, 3, [5, 2]]\n"
     ]
    }
   ],
   "source": [
    "# python array 얕은 복사\n",
    "\n",
    "test_l = [1, 2, 3, [1, 2]]\n",
    "copy_l = test_l[:]\n",
    "\n",
    "test_l[3][0] = 5 # 복제본 값도 변함\n",
    "test_l[1] = 5 # 원본만 값이 변함\n",
    "\n",
    "print(copy_l)\n",
    "print(test_l)"
   ]
  },
  {
   "cell_type": "code",
   "execution_count": 25,
   "metadata": {},
   "outputs": [
    {
     "name": "stdout",
     "output_type": "stream",
     "text": [
      "[0, 0]\n"
     ]
    }
   ],
   "source": [
    "# 내림차순 (sort, [::-1])\n",
    "\n",
    "l = [7, 5, 12, 20]\n",
    "target = 15\n",
    "\n",
    "answer = [0, 0]\n",
    "\n",
    "for i in l:\n",
    "  check_num = target - i\n",
    "  if (check_num in l) and (check_num != i):\n",
    "    answer = [check_num, i]\n",
    "\n",
    "answer.sort()\n",
    "\n",
    "print(answer)"
   ]
  },
  {
   "cell_type": "code",
   "execution_count": 8,
   "metadata": {},
   "outputs": [
    {
     "name": "stdout",
     "output_type": "stream",
     "text": [
      "{}\n",
      "{'a': 1, 'b': 2, 'c': 3, 'd': 4}\n",
      "1\n",
      "4\n",
      "dict\n",
      "b\n",
      "c\n",
      "d\n",
      "dict.values\n",
      "2\n",
      "3\n",
      "4\n",
      "dict.items\n",
      "b 2\n",
      "c 3\n",
      "d 4\n"
     ]
    }
   ],
   "source": [
    "# Dictionary\n",
    "\n",
    "sH = dict()\n",
    "print(sH)\n",
    "\n",
    "sH = {'a':1, 'b':2, 'c':3, 'd':4}\n",
    "print(sH)\n",
    "print(sH['a'])\n",
    "print(len(sH))\n",
    "\n",
    "del sH['a']\n",
    "\n",
    "print(\"dict\")\n",
    "for key in sH:\n",
    "  print(key)\n",
    "\n",
    "print(\"dict.values\")\n",
    "for value in sH.values():\n",
    "  print(value)\n",
    "\n",
    "print(\"dict.items\")\n",
    "for key, value in sH.items():\n",
    "  print(key, value)"
   ]
  }
 ],
 "metadata": {
  "kernelspec": {
   "display_name": "Python 3",
   "language": "python",
   "name": "python3"
  },
  "language_info": {
   "codemirror_mode": {
    "name": "ipython",
    "version": 3
   },
   "file_extension": ".py",
   "mimetype": "text/x-python",
   "name": "python",
   "nbconvert_exporter": "python",
   "pygments_lexer": "ipython3",
   "version": "3.9.13"
  }
 },
 "nbformat": 4,
 "nbformat_minor": 2
}
