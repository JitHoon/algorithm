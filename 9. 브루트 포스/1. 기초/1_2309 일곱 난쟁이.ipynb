{
 "cells": [
  {
   "cell_type": "markdown",
   "metadata": {},
   "source": [
    "https://www.acmicpc.net/problem/2309"
   ]
  },
  {
   "cell_type": "code",
   "execution_count": null,
   "metadata": {},
   "outputs": [],
   "source": [
    "import sys\n",
    "\n",
    "dwarf = []\n",
    "height = 0\n",
    "\n",
    "for i in range(9):\n",
    "  dwarf.append(int(sys.stdin.readline()))\n",
    "\n",
    "total_height = sum(dwarf)\n",
    "\n",
    "for dwarf_1 in range(9):\n",
    "  if (height == 100):\n",
    "    dwarf.sort()\n",
    "    for i in range(7):\n",
    "      print(dwarf[i])\n",
    "    break\n",
    "\n",
    "  for dwarf_2 in range(9):\n",
    "    if(dwarf_1 != dwarf_2):\n",
    "      dwarf_1_height = dwarf[dwarf_1]\n",
    "      dwarf_2_height = dwarf[dwarf_2]\n",
    "\n",
    "      height = total_height - dwarf_1_height - dwarf_2_height\n",
    "\n",
    "      if (height == 100):\n",
    "        dwarf.remove(dwarf_1_height)\n",
    "        dwarf.remove(dwarf_2_height)\n",
    "        break\n",
    "\n"
   ]
  },
  {
   "cell_type": "code",
   "execution_count": null,
   "metadata": {},
   "outputs": [],
   "source": [
    "import sys\n",
    "from itertools import permutations # 순열 메서드\n",
    "\n",
    "def made(arr):\n",
    "    for arr in permutations(arr, 7):\n",
    "        if sum(arr) == 100:\n",
    "            return sorted(arr)\n",
    "    \n",
    "while 1:\n",
    "    arr = [int(sys.stdin.readline()) for _ in range(9)]    \n",
    "    print(*made(arr), sep = '\\n')\n",
    "    break"
   ]
  }
 ],
 "metadata": {
  "language_info": {
   "name": "python"
  }
 },
 "nbformat": 4,
 "nbformat_minor": 2
}
