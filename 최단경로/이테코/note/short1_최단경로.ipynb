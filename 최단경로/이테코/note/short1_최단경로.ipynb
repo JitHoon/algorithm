{
 "cells": [
  {
   "cell_type": "markdown",
   "metadata": {},
   "source": [
    "#### `최단 경로`\n",
    "- 상황에 맞는 효율적인 알고리즘이 이미 정립되어 있다.\n",
    "- 컴공 학부 수준에서는 주로 `다익스트라`, `플로이드 워셜`, `벨만 포드` 이렇게 세 가지만 다룬다.\n",
    "- 최단 경로 알고리즘은 `그리디와 DP 알고리즘의 한 유형`으로 볼 수 있다."
   ]
  }
 ],
 "metadata": {
  "language_info": {
   "name": "python"
  },
  "orig_nbformat": 4
 },
 "nbformat": 4,
 "nbformat_minor": 2
}
