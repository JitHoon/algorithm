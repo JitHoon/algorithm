{
 "cells": [
  {
   "cell_type": "markdown",
   "metadata": {},
   "source": [
    "queue 라이브러리"
   ]
  },
  {
   "cell_type": "code",
   "execution_count": 15,
   "metadata": {},
   "outputs": [
    {
     "name": "stdout",
     "output_type": "stream",
     "text": [
      "deque() 만으로 사용할 때\n",
      "deque([2])\n",
      "deque([])\n",
      "\n",
      "list(deque()) 로 사용할 때\n",
      "[]\n",
      "\n",
      "list(deque()) 로 사용할 때 .popleft() method 사용불가\n",
      "[1, 2]\n"
     ]
    },
    {
     "ename": "AttributeError",
     "evalue": "'list' object has no attribute 'popleft'",
     "output_type": "error",
     "traceback": [
      "\u001b[0;31m---------------------------------------------------------------------------\u001b[0m",
      "\u001b[0;31mAttributeError\u001b[0m                            Traceback (most recent call last)",
      "Cell \u001b[0;32mIn[15], line 18\u001b[0m\n\u001b[1;32m     16\u001b[0m queue\u001b[38;5;241m.\u001b[39mappend(\u001b[38;5;241m2\u001b[39m)\n\u001b[1;32m     17\u001b[0m \u001b[38;5;28mprint\u001b[39m(queue)\n\u001b[0;32m---> 18\u001b[0m \u001b[43mqueue\u001b[49m\u001b[38;5;241;43m.\u001b[39;49m\u001b[43mpopleft\u001b[49m()\n\u001b[1;32m     19\u001b[0m \u001b[38;5;28mprint\u001b[39m(queue)\n",
      "\u001b[0;31mAttributeError\u001b[0m: 'list' object has no attribute 'popleft'"
     ]
    }
   ],
   "source": [
    "from collections import deque\n",
    "\n",
    "print(\"deque() 만으로 사용할 때\")\n",
    "queue = deque()\n",
    "queue.append(2)\n",
    "print(queue)\n",
    "queue.popleft()\n",
    "print(queue)\n",
    "\n",
    "print(\"\\nlist(deque()) 로 사용할 때\")\n",
    "queue = list(queue)\n",
    "print(queue)\n",
    "\n",
    "print(\"\\nlist(deque()) 로 사용할 때 .popleft() method 사용불가\")\n",
    "queue.append(1)\n",
    "queue.append(2)\n",
    "print(queue)\n",
    "queue.popleft()\n",
    "print(queue)\n"
   ]
  }
 ],
 "metadata": {
  "interpreter": {
   "hash": "b0fa6594d8f4cbf19f97940f81e996739fb7646882a419484c72d19e05852a7e"
  },
  "kernelspec": {
   "display_name": "Python 3.9.13 64-bit",
   "language": "python",
   "name": "python3"
  },
  "language_info": {
   "codemirror_mode": {
    "name": "ipython",
    "version": 3
   },
   "file_extension": ".py",
   "mimetype": "text/x-python",
   "name": "python",
   "nbconvert_exporter": "python",
   "pygments_lexer": "ipython3",
   "version": "3.9.13"
  },
  "orig_nbformat": 4
 },
 "nbformat": 4,
 "nbformat_minor": 2
}
