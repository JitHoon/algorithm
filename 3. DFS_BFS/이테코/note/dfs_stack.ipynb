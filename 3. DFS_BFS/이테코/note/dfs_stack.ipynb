{
 "cells": [
  {
   "cell_type": "markdown",
   "metadata": {},
   "source": [
    "#### `DFS`는 `Stack(=재귀함수)` 자료구조를 이용한다.\n",
    "##### 그래프의 `깊은 노드`부터 탐색\n",
    "1. 탐색 시작 노드를 `(1_append) stack에 삽입`하고 `(2_visited) 방문 처리`하고 `(3_print) 출력` 한다.\n",
    "2. stack의 최상단 노드에 \n",
    "- 방문하지 않은 인접 노드가 있으면 그 인접 노드를 `(1_append) stack에 삽입`하고 `(2_visited) 방문처리`한다.\n",
    "- 방문하지 않은 인접 노드가 없으면 `(1_pop) stack에서 최상단 노드를 꺼낸다.`\n",
    "3. 2번 과정을 더 이상 수행할 수 없을 때까지 반복한다.\n",
    "- stack에 남아있는 노드가 없으면 탐색을 종료한다."
   ]
  },
  {
   "cell_type": "code",
   "execution_count": 2,
   "metadata": {},
   "outputs": [
    {
     "name": "stdout",
     "output_type": "stream",
     "text": [
      "1 2 7 6 8 3 4 5 "
     ]
    }
   ],
   "source": [
    "def dfs(n):\n",
    "    global graph, visited\n",
    "\n",
    "    visited[n] = True\n",
    "    print(n,end =  \" \")\n",
    "\n",
    "    for node in graph[n]:\n",
    "        if not visited[node]:\n",
    "            dfs(node)\n",
    "\n",
    "graph = [\n",
    "    [],\n",
    "    [2, 3, 8],\n",
    "    [1, 7],\n",
    "    [1, 4, 5],\n",
    "    [3, 5],\n",
    "    [3, 4],\n",
    "    [7],\n",
    "    [2, 6, 8],\n",
    "    [1, 7]\n",
    "]\n",
    "\n",
    "visited = [False] * len(graph)\n",
    "dfs(1)"
   ]
  }
 ],
 "metadata": {
  "interpreter": {
   "hash": "b0fa6594d8f4cbf19f97940f81e996739fb7646882a419484c72d19e05852a7e"
  },
  "kernelspec": {
   "display_name": "Python 3.9.13 64-bit",
   "language": "python",
   "name": "python3"
  },
  "language_info": {
   "codemirror_mode": {
    "name": "ipython",
    "version": 3
   },
   "file_extension": ".py",
   "mimetype": "text/x-python",
   "name": "python",
   "nbconvert_exporter": "python",
   "pygments_lexer": "ipython3",
   "version": "3.9.13"
  },
  "orig_nbformat": 4
 },
 "nbformat": 4,
 "nbformat_minor": 2
}
