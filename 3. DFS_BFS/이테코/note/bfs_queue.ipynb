{
 "cells": [
  {
   "cell_type": "markdown",
   "metadata": {},
   "source": [
    "#### `BFS`는 `Queue(=deque)` 자료구조를 이용한다.\n",
    "##### 그래프의 `가까운 노드`부터 탐색\n",
    "1. 탐색 시작 노드를 `(1_append) queue에 삽입`하고 `(2_visited) 방문 처리`한다.\n",
    "2. queue에서 `(1_popleft) 노드를 꺼내` `(2_print) 출력하고` 해당 노드의 인접 노드 중에서 방문하지 않은 노드를 모두 `(2_append) queue에 삽입`하고 `(3_visited) 방문처리`한다.\n",
    "- 방문하지 않은 노드들을 모두 queue에 삽입하는 과정 = 가까운 노드들을 우선적으로 탐색\n",
    "3. 2번 과정을 더 이상 수행할 수 없을 때까지 반복한다.\n",
    "- queue에 남아있는 노드가 없으면 탐색을 종료한다."
   ]
  },
  {
   "cell_type": "code",
   "execution_count": 4,
   "metadata": {},
   "outputs": [
    {
     "name": "stdout",
     "output_type": "stream",
     "text": [
      "1 2 3 8 7 4 5 6 "
     ]
    }
   ],
   "source": [
    "def bfs(n):\n",
    "    global graph, queue, visited\n",
    "\n",
    "    queue.append(n)\n",
    "    visited[n] = True\n",
    "\n",
    "    while queue:\n",
    "        out = queue.popleft()\n",
    "        print(out,end =  \" \")\n",
    "\n",
    "        for node in graph[out]:\n",
    "            if not visited[node]:\n",
    "                queue.append(node)\n",
    "                visited[node] = True\n",
    "\n",
    "from collections import deque\n",
    "\n",
    "graph = [\n",
    "    [],\n",
    "    [2, 3, 8],\n",
    "    [1, 7],\n",
    "    [1, 4, 5],\n",
    "    [3, 5],\n",
    "    [3, 4],\n",
    "    [7],\n",
    "    [2, 6, 8],\n",
    "    [1, 7]\n",
    "]\n",
    "queue = deque()\n",
    "visited = [False] * len(graph)\n",
    "bfs(1)"
   ]
  }
 ],
 "metadata": {
  "interpreter": {
   "hash": "b0fa6594d8f4cbf19f97940f81e996739fb7646882a419484c72d19e05852a7e"
  },
  "kernelspec": {
   "display_name": "Python 3.9.13 64-bit",
   "language": "python",
   "name": "python3"
  },
  "language_info": {
   "codemirror_mode": {
    "name": "ipython",
    "version": 3
   },
   "file_extension": ".py",
   "mimetype": "text/x-python",
   "name": "python",
   "nbconvert_exporter": "python",
   "pygments_lexer": "ipython3",
   "version": "3.9.13"
  },
  "orig_nbformat": 4
 },
 "nbformat": 4,
 "nbformat_minor": 2
}
