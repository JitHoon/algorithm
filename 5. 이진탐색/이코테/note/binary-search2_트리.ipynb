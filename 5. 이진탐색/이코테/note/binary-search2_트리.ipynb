{
 "cells": [
  {
   "cell_type": "markdown",
   "metadata": {},
   "source": [
    "#### `트리`\n",
    "- `노드`(정보를 가지고 있는 개체)와 `노드`의 연결로 표현\n",
    "- `부모` 노드와 `자식` 노드의 관계로 표현된다.\n",
    "- 트리의 최상단 노드를 `루트` 노드라고 한다.\n",
    "- 트리의 최하단 노드를 `단말` 노드라고 한다.\n",
    "- 트리에서 일부를 떼어내도 트리 구조이며 이를 `서브 트리`라 한다.\n",
    "- 트리는 파일 시스템과 같이 계층적이고 정렬된 데이터를 다루기에 적합하다."
   ]
  },
  {
   "cell_type": "markdown",
   "metadata": {},
   "source": [
    "- `큰 데이터를 처리하는 SW는 대부분 데이터를 트리 자료구조로 저장해서 이진 탐색과 같은 탐색 기법을 이용해 빠르게 탐색이 가능하다.`"
   ]
  },
  {
   "cell_type": "markdown",
   "metadata": {},
   "source": [
    "- -> `이진 탐색 트리`"
   ]
  }
 ],
 "metadata": {
  "language_info": {
   "name": "python"
  },
  "orig_nbformat": 4
 },
 "nbformat": 4,
 "nbformat_minor": 2
}
