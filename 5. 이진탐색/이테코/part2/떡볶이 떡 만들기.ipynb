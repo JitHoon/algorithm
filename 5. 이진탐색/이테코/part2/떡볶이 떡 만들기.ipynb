{
 "cells": [
  {
   "cell_type": "markdown",
   "metadata": {},
   "source": [
    "201p"
   ]
  },
  {
   "cell_type": "code",
   "execution_count": 1,
   "metadata": {},
   "outputs": [
    {
     "name": "stdout",
     "output_type": "stream",
     "text": [
      "15\n"
     ]
    }
   ],
   "source": [
    "# 탐색 범위가 1부터 10억까지 이므로\n",
    "# 아래 알고리즘은 시간 초과로 오답처리 된다.\n",
    "N, M = map(int, input().split())\n",
    "rice = list(map(int, input().split()))\n",
    "done = 0\n",
    "\n",
    "max_slice = max(rice)\n",
    "\n",
    "while M > done:\n",
    "    for n in range(N):\n",
    "        get = rice[n] - max_slice\n",
    "        if get > 0:\n",
    "            done += get\n",
    "    max_slice -= 1\n",
    "print(max_slice)"
   ]
  },
  {
   "cell_type": "code",
   "execution_count": 14,
   "metadata": {},
   "outputs": [
    {
     "name": "stdout",
     "output_type": "stream",
     "text": [
      "15\n"
     ]
    }
   ],
   "source": [
    "# 떡의 크기가 가장 큰 값을 끝점으로 잡고 \n",
    "# 이진 탐색을 하는 것이 중요하다.\n",
    "# 재귀함수보다 반복문 구현이 더 간단한다.\n",
    "# 적어도 원하는 떡의 개수만큼 가져갈 수 있는 순간까지 잘라야 하므로\n",
    "# 자른 떡의 개수가 M 이상일 때 mid값이 max_slice 보다 더 크면 max_slice 값을 갱신한다.\n",
    "# 결국 start > end 가 될 때까지 탐색한다.\n",
    "\n",
    "N, M = map(int, input().split())\n",
    "rice = list(map(int, input().split()))\n",
    "start = 0\n",
    "end = max(rice)\n",
    "max_slice = 0\n",
    "\n",
    "while start <= end:\n",
    "    mid = (start + end) // 2\n",
    "    slice_sum = 0\n",
    "\n",
    "    for r in rice:\n",
    "        left = r - mid\n",
    "        if left > 0:\n",
    "            slice_sum += left\n",
    "\n",
    "    if slice_sum >= M:\n",
    "        if max_slice <= mid:\n",
    "            max_slice =  mid\n",
    "        start = mid + 1\n",
    "    else:\n",
    "        end = mid - 1\n",
    "\n",
    "print(max_slice)"
   ]
  }
 ],
 "metadata": {
  "interpreter": {
   "hash": "b0fa6594d8f4cbf19f97940f81e996739fb7646882a419484c72d19e05852a7e"
  },
  "kernelspec": {
   "display_name": "Python 3.9.13 64-bit",
   "language": "python",
   "name": "python3"
  },
  "language_info": {
   "codemirror_mode": {
    "name": "ipython",
    "version": 3
   },
   "file_extension": ".py",
   "mimetype": "text/x-python",
   "name": "python",
   "nbconvert_exporter": "python",
   "pygments_lexer": "ipython3",
   "version": "3.9.13"
  },
  "orig_nbformat": 4
 },
 "nbformat": 4,
 "nbformat_minor": 2
}
