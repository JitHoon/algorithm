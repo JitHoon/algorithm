{
 "cells": [
  {
   "cell_type": "markdown",
   "metadata": {},
   "source": [
    "#### `선택`정렬\n",
    "- 매번 `가장 작은 것을 선택 후 앞`으로\n",
    "- `N-1` 회 반복\n",
    "- O(`N^2`) : for 중첩문\n",
    "- 무조건 모든 원소를 비교하고 교환\n",
    "- 선택 정렬 > 퀵 정렬 > 기본 정렬 라이브러리\n",
    "- 알고리즘 문제 풀이에 사용하기에는 느린 편"
   ]
  },
  {
   "cell_type": "code",
   "execution_count": 19,
   "metadata": {},
   "outputs": [
    {
     "name": "stdout",
     "output_type": "stream",
     "text": [
      "[0, 1, 2, 3, 4, 5, 6, 7, 8, 9]\n"
     ]
    }
   ],
   "source": [
    "data = [7, 5, 9, 0, 3, 1, 6, 2, 4, 8]\n",
    "\n",
    "# N-1 회 반복\n",
    "for i in range(len(data)):\n",
    "    min_idx = i\n",
    "    for j in range(i + 1, len(data)):\n",
    "        if data[min_idx] > data[j]:\n",
    "            min_idx = j\n",
    "    data[i], data[min_idx] = data[min_idx], data[i]\n",
    "\n",
    "print(data)"
   ]
  }
 ],
 "metadata": {
  "interpreter": {
   "hash": "b0fa6594d8f4cbf19f97940f81e996739fb7646882a419484c72d19e05852a7e"
  },
  "kernelspec": {
   "display_name": "Python 3.9.13 64-bit",
   "language": "python",
   "name": "python3"
  },
  "language_info": {
   "codemirror_mode": {
    "name": "ipython",
    "version": 3
   },
   "file_extension": ".py",
   "mimetype": "text/x-python",
   "name": "python",
   "nbconvert_exporter": "python",
   "pygments_lexer": "ipython3",
   "version": "3.9.13"
  },
  "orig_nbformat": 4
 },
 "nbformat": 4,
 "nbformat_minor": 2
}
