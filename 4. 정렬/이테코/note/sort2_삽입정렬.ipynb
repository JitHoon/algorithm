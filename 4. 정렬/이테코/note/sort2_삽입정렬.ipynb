{
 "cells": [
  {
   "cell_type": "markdown",
   "metadata": {},
   "source": [
    "#### `삽입`정렬\n",
    "- `특정 데이터의 앞 데이터는 정렬되어있다고 가정` 후 적절한 위치로 삽입\n",
    "- (삽입 시 자신보다 작은 데이터를 만났을 때 멈춘다.)\n",
    "- `N-1` 회 반복\n",
    "- O(`N`) ~ O(`N^2`)\n",
    "- `데이터가 거의 정렬되어 있을 때 더 빠르게 동작`\n",
    "- 필요한 원소만 비교하고 교환"
   ]
  },
  {
   "cell_type": "code",
   "execution_count": 5,
   "metadata": {},
   "outputs": [
    {
     "name": "stdout",
     "output_type": "stream",
     "text": [
      "[0, 1, 2, 3, 4, 5, 6, 7, 8, 9]\n"
     ]
    }
   ],
   "source": [
    "data = [7, 5, 9, 0, 3, 1, 6, 2, 4, 8]\n",
    "\n",
    "for i in range(1, len(data)):\n",
    "    for j in range(i, 0, -1):\n",
    "        if data[j] < data[j-1]:\n",
    "            data[j], data[j-1] = data[j-1], data[j]\n",
    "        else:\n",
    "            break\n",
    "\n",
    "print(data)"
   ]
  }
 ],
 "metadata": {
  "interpreter": {
   "hash": "b0fa6594d8f4cbf19f97940f81e996739fb7646882a419484c72d19e05852a7e"
  },
  "kernelspec": {
   "display_name": "Python 3.9.13 64-bit",
   "language": "python",
   "name": "python3"
  },
  "language_info": {
   "codemirror_mode": {
    "name": "ipython",
    "version": 3
   },
   "file_extension": ".py",
   "mimetype": "text/x-python",
   "name": "python",
   "nbconvert_exporter": "python",
   "pygments_lexer": "ipython3",
   "version": "3.9.13"
  },
  "orig_nbformat": 4
 },
 "nbformat": 4,
 "nbformat_minor": 2
}
