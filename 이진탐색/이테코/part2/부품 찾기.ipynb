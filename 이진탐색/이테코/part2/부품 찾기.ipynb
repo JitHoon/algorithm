{
 "cells": [
  {
   "cell_type": "markdown",
   "metadata": {},
   "source": [
    "197p"
   ]
  },
  {
   "cell_type": "code",
   "execution_count": 9,
   "metadata": {},
   "outputs": [
    {
     "name": "stdout",
     "output_type": "stream",
     "text": [
      "no yes yes "
     ]
    }
   ],
   "source": [
    "def binary_search(start, end, find):\n",
    "    mid = (start + end) // 2\n",
    "\n",
    "    if start > end:\n",
    "        return 0\n",
    "    \n",
    "    if parts[mid] == find:\n",
    "        return 1\n",
    "    elif parts[mid] < find:\n",
    "        return binary_search(mid+1, end, find)\n",
    "    elif parts[mid] > find:\n",
    "        return binary_search(start, mid-1, find)\n",
    "\n",
    "N = int(input())\n",
    "parts = list(map(int, input().split()))\n",
    "M = int(input())\n",
    "requires = list(map(int, input().split()))\n",
    "\n",
    "sorted(parts)\n",
    "sorted(requires)\n",
    "\n",
    "for require in requires:\n",
    "    if binary_search(0, len(parts)-1, require):\n",
    "        print(f\"yes\", end=\" \")\n",
    "    else:\n",
    "        print(f\"no\", end=\" \")"
   ]
  }
 ],
 "metadata": {
  "interpreter": {
   "hash": "b0fa6594d8f4cbf19f97940f81e996739fb7646882a419484c72d19e05852a7e"
  },
  "kernelspec": {
   "display_name": "Python 3.9.13 64-bit",
   "language": "python",
   "name": "python3"
  },
  "language_info": {
   "codemirror_mode": {
    "name": "ipython",
    "version": 3
   },
   "file_extension": ".py",
   "mimetype": "text/x-python",
   "name": "python",
   "nbconvert_exporter": "python",
   "pygments_lexer": "ipython3",
   "version": "3.9.13"
  },
  "orig_nbformat": 4
 },
 "nbformat": 4,
 "nbformat_minor": 2
}
