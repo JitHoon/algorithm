{
 "cells": [
  {
   "cell_type": "markdown",
   "metadata": {},
   "source": [
    "#### 이진 탐색 트리\n",
    "- 트리 자료구조 중에서 이진 탐색이 동작할 수 있도록 고안된 `가장 간단한` 형태\n",
    "- `왼쪽 자식 노드` < `부모 노드` < `오른쪽 자식 노드`"
   ]
  }
 ],
 "metadata": {
  "language_info": {
   "name": "python"
  },
  "orig_nbformat": 4
 },
 "nbformat": 4,
 "nbformat_minor": 2
}
