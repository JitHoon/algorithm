{
 "cells": [
  {
   "cell_type": "markdown",
   "metadata": {},
   "source": [
    "#### `이진탐색`\n",
    "- 사용 전제 조건 : 배열 내부의 `데이터가 정렬되어 있어야`한다.\n",
    "- 정렬된 배열을 `시작점, 중간점, 끝점 세 변수`를 활용하여 탐색한다.\n",
    "- `중간점`에 있는 데이터와 찾으려는 데이터를 비교하여 \n",
    "- 중간점이 더 크다면 중간점 = 끝점\n",
    "- 중간점이 더 작다면 중간점 = 시작점 으로 설정하고 중간점을 계속 옮겨간다.\n",
    "- `중간점 데이터 = 찾으려는 데이터` 라면 탐색을 종료한다.\n",
    "- O(`logN`)"
   ]
  },
  {
   "cell_type": "markdown",
   "metadata": {},
   "source": [
    "##### `이진 탐색 코드는 가급적 외우는 것이 좋다.`\n",
    "1. 코테 단골 문제이기 때문\n",
    "2. 높은 난이도 문제에서 다른 알고리즘과 함께 사용된다.\n",
    "3. 이진 탐색 문제는 탐색 범위가 큰 상황을 가정하는 문제가 많다.\n",
    "-  O(`logN`) 내의 속도까지 고려해야한다면 외워둔 이진 탐색을 사용하자."
   ]
  },
  {
   "cell_type": "markdown",
   "metadata": {},
   "source": [
    "`재귀함수 버전`"
   ]
  },
  {
   "cell_type": "code",
   "execution_count": 15,
   "metadata": {},
   "outputs": [
    {
     "name": "stdout",
     "output_type": "stream",
     "text": [
      "찾으시는 자료의 index는 2 입니다.\n"
     ]
    }
   ],
   "source": [
    "def binary_search(start, end):\n",
    "    global array, target\n",
    "    # 탐색 실패, None 반환\n",
    "    if start > end:\n",
    "        return None\n",
    "    \n",
    "    # 중간점\n",
    "    mid = (start + end) // 2\n",
    "    \n",
    "    # 탬색 성공, 검색 위치 반환\n",
    "    if array[mid] == target:\n",
    "        return mid\n",
    "    # 중간점이 더 크다면 중간점 = 끝점\n",
    "    elif array[mid] > target:\n",
    "        return binary_search(start, mid - 1)\n",
    "    # 중간점이 더 작다면 중간점 = 끝점\n",
    "    else:\n",
    "        return binary_search(mid + 1, end)\n",
    "\n",
    "data = ['d', 'c', 'a', 'b']\n",
    "target = 'c'\n",
    "\n",
    "# 이진 탐색 전 데이터 정렬하기\n",
    "array = sorted(data)\n",
    "result = binary_search(0, len(data)-1)\n",
    "\n",
    "if result == None:\n",
    "    print(\"탐색 실패\")\n",
    "else:\n",
    "    print(f\"찾으시는 자료의 index는 {result} 입니다.\")"
   ]
  },
  {
   "cell_type": "markdown",
   "metadata": {},
   "source": [
    "`반복문 버전`"
   ]
  },
  {
   "cell_type": "code",
   "execution_count": 16,
   "metadata": {},
   "outputs": [
    {
     "name": "stdout",
     "output_type": "stream",
     "text": [
      "찾으시는 자료의 index는 2 입니다.\n"
     ]
    }
   ],
   "source": [
    "def binary_search(start, end):\n",
    "    global array, target\n",
    "\n",
    "    while start <= end:\n",
    "        # 중간점\n",
    "        mid = (start + end) // 2\n",
    "\n",
    "        # 탬색 성공, 검색 위치 반환\n",
    "        if array[mid] == target:\n",
    "            return mid\n",
    "        # 중간점이 더 크다면 중간점 = 끝점\n",
    "        elif array[mid] > target:\n",
    "            end = mid - 1\n",
    "        # 중간점이 더 작다면 중간점 = 끝점\n",
    "        else:\n",
    "            start = mid + 1\n",
    "\n",
    "    # 탐색 실패, None 반환\n",
    "    return None\n",
    "    \n",
    "data = ['d', 'c', 'a', 'b']\n",
    "target = 'c'\n",
    "\n",
    "# 이진 탐색 전 데이터 정렬하기\n",
    "array = sorted(data)\n",
    "result = binary_search(0, len(data)-1)\n",
    "\n",
    "if result == None:\n",
    "    print(\"탐색 실패\")\n",
    "else:\n",
    "    print(f\"찾으시는 자료의 index는 {result} 입니다.\")"
   ]
  }
 ],
 "metadata": {
  "interpreter": {
   "hash": "b0fa6594d8f4cbf19f97940f81e996739fb7646882a419484c72d19e05852a7e"
  },
  "kernelspec": {
   "display_name": "Python 3.9.13 64-bit",
   "language": "python",
   "name": "python3"
  },
  "language_info": {
   "codemirror_mode": {
    "name": "ipython",
    "version": 3
   },
   "file_extension": ".py",
   "mimetype": "text/x-python",
   "name": "python",
   "nbconvert_exporter": "python",
   "pygments_lexer": "ipython3",
   "version": "3.9.13"
  },
  "orig_nbformat": 4
 },
 "nbformat": 4,
 "nbformat_minor": 2
}
