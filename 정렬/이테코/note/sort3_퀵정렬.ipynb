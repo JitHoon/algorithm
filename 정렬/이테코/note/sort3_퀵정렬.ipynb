{
 "cells": [
  {
   "cell_type": "markdown",
   "metadata": {},
   "source": [
    "#### `퀵`정렬\n",
    "- `기준(pivot)을 설정한 다음 큰 수와 작은 수를 교환한 후 리스트를 반으로 나누는 방식`\n",
    "- O(`NlogN`) ~ O(`N^2`) : (컴퓨터에서는 `log의 밑은 주로 2`)\n",
    "- pivot이 매번 정확히 중간 지점에서 파티션을 형성할 때 `logN 높이만큼 정렬`을 한다. (170p 참고)\n",
    "- `이미 데이터가 정렬되어 있는 경우 매우 느리게 동작` (파티션을 정확히 반으로 나눌 수록 높이가 줄어든다. -> N 높이만큼 정렬)\n",
    "- 정렬 라이브러리 사용 시 O(`NlogN`) 복잡도를 보장해준다.\n",
    "- 정렬 알고리즘 중에 가장 많이 사용됨 (+ `병합`정렬)"
   ]
  },
  {
   "cell_type": "markdown",
   "metadata": {},
   "source": [
    "##### 카드 이동 횟수?\n",
    "\n",
    "1. 파티션 구분하기\n",
    "- array의 첫 번째 원소 = pivot\n",
    "- 왼쪽부터 pivot보다 큰 값, 오른쪽부터 pivot보다 작은 값 자리 교환, 반복\n",
    "- 찾는 값의 위치가 엇갈릴 때 찾은 값 중 작은 값을 pivot과 자리 교환\n",
    "2. 반복 정렬하기\n",
    "- 왼쪽, 오른쪽 각 array의 첫 번째 원소 = pivot\n",
    "- 각 array의 len(array) = 1 일 때 정렬을 멈춤\n",
    "- pivot보다 오른쪽 값이 모두 클 때 정렬을 멈추고 오른쪽 array의 첫 번째 원소를 pivot으로 설정\n",
    "- pivot보다 왼쪽 값이 모두 작을 때 정렬을 멈추고 왼쪽 array의 첫 번째 원소를 pivot으로 설정\n",
    "\n",
    "-> `제귀함수`로 표현"
   ]
  },
  {
   "cell_type": "code",
   "execution_count": 1,
   "metadata": {},
   "outputs": [
    {
     "name": "stdout",
     "output_type": "stream",
     "text": [
      "[0, 1, 2, 3, 4, 5, 6, 7, 8, 9]\n"
     ]
    }
   ],
   "source": [
    "data = [7, 5, 9, 0, 3, 1, 6, 2, 4, 8]\n",
    "\n",
    "def quick_sort(data):\n",
    "    # array 속 데이터의 개수가 하나일 때 정렬을 멈추고 array 반환\n",
    "    if len(data) <= 1:\n",
    "        return data\n",
    "    \n",
    "    # 첫 번째 원소를 pivot으로\n",
    "    pivot = data[0]\n",
    "    #  pivot을 제외한 나머지 원소들\n",
    "    tail = data[1:]\n",
    "\n",
    "    # 분할 왼쪽, 오른쪽\n",
    "    left_side = [x for x in tail if x <= pivot]\n",
    "    right_side = [x for x in tail if x > pivot]\n",
    "\n",
    "    return quick_sort(left_side) + [pivot] + quick_sort(right_side)\n",
    "\n",
    "print(quick_sort(data))"
   ]
  },
  {
   "cell_type": "code",
   "execution_count": 3,
   "metadata": {},
   "outputs": [
    {
     "name": "stdout",
     "output_type": "stream",
     "text": [
      "[0, 1, 2, 3, 4, 5, 6, 7, 8, 9]\n"
     ]
    }
   ],
   "source": [
    "data = [0, 1, 2, 3, 4, 5, 6, 7, 8, 9]\n",
    "\n",
    "def quick_sort(data):\n",
    "    # array 속 데이터의 개수가 하나일 때 정렬을 멈추고 array 반환\n",
    "    if len(data) <= 1:\n",
    "        return data\n",
    "    \n",
    "    # 첫 번째 원소를 pivot으로\n",
    "    pivot = data[0]\n",
    "    #  pivot을 제외한 나머지 원소들\n",
    "    tail = data[1:]\n",
    "\n",
    "    # 분할 왼쪽, 오른쪽\n",
    "    left_side = [x for x in tail if x <= pivot]\n",
    "    right_side = [x for x in tail if x > pivot]\n",
    "\n",
    "    return quick_sort(left_side) + [pivot] + quick_sort(right_side)\n",
    "\n",
    "print(quick_sort(data))"
   ]
  }
 ],
 "metadata": {
  "interpreter": {
   "hash": "b0fa6594d8f4cbf19f97940f81e996739fb7646882a419484c72d19e05852a7e"
  },
  "kernelspec": {
   "display_name": "Python 3.9.13 64-bit",
   "language": "python",
   "name": "python3"
  },
  "language_info": {
   "codemirror_mode": {
    "name": "ipython",
    "version": 3
   },
   "file_extension": ".py",
   "mimetype": "text/x-python",
   "name": "python",
   "nbconvert_exporter": "python",
   "pygments_lexer": "ipython3",
   "version": "3.9.13"
  },
  "orig_nbformat": 4
 },
 "nbformat": 4,
 "nbformat_minor": 2
}
