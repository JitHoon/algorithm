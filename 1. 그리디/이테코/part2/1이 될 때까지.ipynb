{
 "cells": [
  {
   "cell_type": "markdown",
   "metadata": {},
   "source": [
    "99p"
   ]
  },
  {
   "cell_type": "code",
   "execution_count": 8,
   "metadata": {},
   "outputs": [
    {
     "name": "stdout",
     "output_type": "stream",
     "text": [
      "3\n",
      "2\n"
     ]
    }
   ],
   "source": [
    "for tc in range(1, int(input())+1):\n",
    "    N, K = map(int, input().split()); result = 0;\n",
    "    while N!=1:\n",
    "        if N%K == 0:\n",
    "            N = N//K\n",
    "            result += 1\n",
    "        else:\n",
    "            N -= 1\n",
    "            result += 1\n",
    "    print(result)"
   ]
  },
  {
   "cell_type": "code",
   "execution_count": null,
   "metadata": {},
   "outputs": [],
   "source": [
    "for tc in range(1, int(input())+1):\n",
    "    n, k = map(int, input().split()); result = 0;\n",
    "\n",
    "    while True:\n",
    "        target= (n // k) * k\n",
    "        # 정확히 나누어 떨어지지 않는 경우를 한번에 연산하여\n",
    "        # 시간 복잡도를 줄일 수 있음\n",
    "        result += (n - target)\n",
    "        n = target\n",
    "\n",
    "        if n < k:\n",
    "            break\n",
    "        \n",
    "        result += 1\n",
    "        n //= k\n",
    "    \n",
    "    result += (n-1)\n",
    "    print(result)"
   ]
  },
  {
   "cell_type": "code",
   "execution_count": 10,
   "metadata": {},
   "outputs": [
    {
     "name": "stdout",
     "output_type": "stream",
     "text": [
      "3\n",
      "2\n"
     ]
    }
   ],
   "source": [
    "for tc in range(1, int(input())+1):\n",
    "    N, K = map(int, input().split()); result = 0;\n",
    "\n",
    "    # 내 코드와 예제 코드 합치기 (연산수, 시간 복잡도 단축)\n",
    "    while True:\n",
    "        if N%K == 0:\n",
    "            N = N//K\n",
    "            result += 1\n",
    "        else:\n",
    "            if N < K:\n",
    "                break\n",
    "            else:\n",
    "                R = N%K\n",
    "                N -= R\n",
    "                result += R\n",
    "    print(result)"
   ]
  }
 ],
 "metadata": {
  "interpreter": {
   "hash": "b0fa6594d8f4cbf19f97940f81e996739fb7646882a419484c72d19e05852a7e"
  },
  "kernelspec": {
   "display_name": "Python 3.9.13 64-bit",
   "language": "python",
   "name": "python3"
  },
  "language_info": {
   "codemirror_mode": {
    "name": "ipython",
    "version": 3
   },
   "file_extension": ".py",
   "mimetype": "text/x-python",
   "name": "python",
   "nbconvert_exporter": "python",
   "pygments_lexer": "ipython3",
   "version": "3.9.13"
  },
  "orig_nbformat": 4
 },
 "nbformat": 4,
 "nbformat_minor": 2
}
