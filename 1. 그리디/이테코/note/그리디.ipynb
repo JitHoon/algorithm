{
 "cells": [
  {
   "cell_type": "markdown",
   "metadata": {},
   "source": [
    "#### `그리디`\n",
    "- 단순히 현재 상황에서 가장 좋아 보이는 것만을 선택하는 방법\n",
    "- 보통 어떤 `기준으로 정렬후 선택`한다."
   ]
  }
 ],
 "metadata": {
  "language_info": {
   "name": "python"
  },
  "orig_nbformat": 4
 },
 "nbformat": 4,
 "nbformat_minor": 2
}
