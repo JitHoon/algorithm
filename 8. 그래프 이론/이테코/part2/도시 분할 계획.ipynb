{
 "cells": [
  {
   "cell_type": "markdown",
   "metadata": {},
   "source": [
    "300p"
   ]
  },
  {
   "cell_type": "code",
   "execution_count": 6,
   "metadata": {},
   "outputs": [
    {
     "name": "stdout",
     "output_type": "stream",
     "text": [
      "8\n"
     ]
    }
   ],
   "source": [
    "def union_parent(parent, node1, node2):\n",
    "    node1 = find_parent(parent, node1)\n",
    "    node2 = find_parent(parent, node2)\n",
    "\n",
    "    if node1 < node2:\n",
    "        parent[node2] = node1\n",
    "    else:\n",
    "        parent[node1] = node2\n",
    "\n",
    "def find_parent(parent, node):\n",
    "    if parent[node] != node:\n",
    "        parent[node] = find_parent(parent, parent[node])\n",
    "    return parent[node]\n",
    "\n",
    "n, m = map(int, input().split())\n",
    "parent = [0] * (n+1)\n",
    "for i in range(n+1):\n",
    "    parent[i] = i\n",
    "\n",
    "data = []\n",
    "result = 0\n",
    "\n",
    "for i in range(m):\n",
    "    node1, node2, cost = map(int, input().split())\n",
    "    data.append((cost, node1, node2))\n",
    "\n",
    "data.sort()\n",
    "\n",
    "for d in data:\n",
    "    c, n1, n2 = d\n",
    "    # 사이클을 발생시키지 않는다면\n",
    "    if find_parent(parent, n1) != find_parent(parent, n2):\n",
    "        union_parent(parent, n1, n2)\n",
    "        result += c\n",
    "        last = c\n",
    "\n",
    "print(result - last)\n"
   ]
  }
 ],
 "metadata": {
  "interpreter": {
   "hash": "b0fa6594d8f4cbf19f97940f81e996739fb7646882a419484c72d19e05852a7e"
  },
  "kernelspec": {
   "display_name": "Python 3.9.13 64-bit",
   "language": "python",
   "name": "python3"
  },
  "language_info": {
   "codemirror_mode": {
    "name": "ipython",
    "version": 3
   },
   "file_extension": ".py",
   "mimetype": "text/x-python",
   "name": "python",
   "nbconvert_exporter": "python",
   "pygments_lexer": "ipython3",
   "version": "3.9.13"
  },
  "orig_nbformat": 4
 },
 "nbformat": 4,
 "nbformat_minor": 2
}
