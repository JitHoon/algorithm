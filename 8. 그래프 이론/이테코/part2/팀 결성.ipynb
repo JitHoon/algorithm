{
 "cells": [
  {
   "cell_type": "markdown",
   "metadata": {},
   "source": [
    "298p"
   ]
  },
  {
   "cell_type": "code",
   "execution_count": 3,
   "metadata": {},
   "outputs": [
    {
     "name": "stdout",
     "output_type": "stream",
     "text": [
      "No\n",
      "No\n",
      "Yes\n",
      "[{0}, {1, 3}, {2, 4}, {1, 3, 6, 7}, {2, 4}, {5}, {6, 7}, {1, 3, 6, 7}]\n"
     ]
    }
   ],
   "source": [
    "# 본인 풀이\n",
    "n, m = map(int, input().split())\n",
    "# node = [[0], ~ [7]]\n",
    "node = [{i} for i in range(n+1)]\n",
    "for _ in range(m):\n",
    "    oper, node1, node2 = map(int, input().split())\n",
    "    if oper:\n",
    "        if node1 in node[node2]:\n",
    "            print(\"Yes\")\n",
    "        else:\n",
    "            print(\"No\")\n",
    "    else:\n",
    "        node[node1] = set.union(node[node1], node[node2])\n",
    "        node[node2] = node[node1]\n",
    "\n",
    "print(node)"
   ]
  },
  {
   "cell_type": "code",
   "execution_count": 5,
   "metadata": {},
   "outputs": [
    {
     "name": "stdout",
     "output_type": "stream",
     "text": [
      "No\n",
      "No\n",
      "Yes\n"
     ]
    }
   ],
   "source": [
    "# 서로소 집합\n",
    "\n",
    "def union_parent(parent, a, b):\n",
    "    # 각 노드의 루트 노드를 찾음\n",
    "    a = find_parent(parent, a)\n",
    "    b = find_parent(parent, b)\n",
    "    # 찾은 본인의 루트 노드를 부모 테이블에 저장\n",
    "    if a < b:\n",
    "        parent[b] = a\n",
    "    else:\n",
    "        parent[a] = b\n",
    "\n",
    "def find_parent(parent, x):\n",
    "    if parent[x] != x:\n",
    "        parent[x] = find_parent(parent, parent[x])\n",
    "    return parent[x]\n",
    "\n",
    "n, m = map(int, input().split())\n",
    "parent = [0] * (n+1)\n",
    "# 자신 노드를 가리키도록 초기화\n",
    "for i in range(1, n+1):\n",
    "    parent[i] = i\n",
    "\n",
    "for i in range(m):\n",
    "    oper, node1, node2 = map(int, input().split())\n",
    "    if oper:\n",
    "        if find_parent(parent, node1) == find_parent(parent,node2):\n",
    "            print(\"Yes\")\n",
    "        else:\n",
    "            print(\"No\")\n",
    "    else:\n",
    "        union_parent(parent, node1, node2)"
   ]
  }
 ],
 "metadata": {
  "interpreter": {
   "hash": "b0fa6594d8f4cbf19f97940f81e996739fb7646882a419484c72d19e05852a7e"
  },
  "kernelspec": {
   "display_name": "Python 3.9.13 64-bit",
   "language": "python",
   "name": "python3"
  },
  "language_info": {
   "codemirror_mode": {
    "name": "ipython",
    "version": 3
   },
   "file_extension": ".py",
   "mimetype": "text/x-python",
   "name": "python",
   "nbconvert_exporter": "python",
   "pygments_lexer": "ipython3",
   "version": "3.9.13"
  },
  "orig_nbformat": 4
 },
 "nbformat": 4,
 "nbformat_minor": 2
}
