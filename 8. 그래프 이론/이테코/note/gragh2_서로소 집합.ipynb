{
 "cells": [
  {
   "cell_type": "markdown",
   "metadata": {},
   "source": [
    "268p"
   ]
  },
  {
   "cell_type": "markdown",
   "metadata": {},
   "source": [
    "#### `서로소 집합`\n",
    "- `공통 원소가 없는 두 집합`\n",
    "- ex) {1, 2}, {3, 4} 두 집합은 서로소 집합이다."
   ]
  },
  {
   "cell_type": "markdown",
   "metadata": {},
   "source": [
    "#### `서로소 집합 자료구조` = `union-find 자료구조`\n",
    "- `서로소 부분 집합들로 나누어진 원소들의 데이터를 처리하기 위한 자료구조`\n",
    "- `트리 자료구조를 이용`하여 집합을 표현한다.\n",
    "\n",
    "##### `union`(합집합) 연산\n",
    "- 2개의 원소가 포함된 집합을 하나의 집합으로 합치는 연산\n",
    "1. 노드의 개수 크기의 부모 테이블을 자신의 노드를 가리키는 상태로 초기화\n",
    "2. 더 큰 루트 노드가 더 작은 루트 노드를 가리키도록 한다. (본인의 부모 노드만 담고있게 된다.)\n",
    "\n",
    "##### `find` 연산\n",
    "- 특정한 원소가 속한 집합이 어떤 집합인지 알려주는 연산\n",
    "1. 최종 루트를 찾을 때는 재귀적으로 부모를 거슬러 올라가서 찾는다."
   ]
  },
  {
   "cell_type": "code",
   "execution_count": 6,
   "metadata": {},
   "outputs": [
    {
     "name": "stdout",
     "output_type": "stream",
     "text": [
      "1: 1\n",
      "2: 1\n",
      "3: 1\n",
      "4: 1\n",
      "5: 5\n",
      "6: 5\n",
      "1: 1\n",
      "2: 1\n",
      "3: 2\n",
      "4: 1\n",
      "5: 5\n",
      "6: 5\n"
     ]
    }
   ],
   "source": [
    "# 기본적인 서로소 집합 알고리즘 (union, find)\n",
    "# 방향성 그래프(트리)에서의 적용\n",
    "\n",
    "def union_parent(parent, a, b):\n",
    "    # 각 노드의 루트 노드를 찾음\n",
    "    a = find_parent(parent, a)\n",
    "    b = find_parent(parent, b)\n",
    "    # 찾은 본인의 루트 노드를 부모 테이블에 저장\n",
    "    if a < b:\n",
    "        parent[b] = a\n",
    "    else:\n",
    "        parent[a] = b\n",
    "\n",
    "def find_parent(parent, x):\n",
    "    if parent[x] != x:\n",
    "        # 루트 노드를 찾을 때까지 재귀 호출\n",
    "        return find_parent(parent, parent[x])\n",
    "    return x\n",
    "\n",
    "# 노드 개수, 간선 개수\n",
    "v, e = map(int, input().split())\n",
    "# 자신의 루트 부모를 저장하는 루트 부모 테이블 생성\n",
    "# 자신이 속해있는 루트 부모를 통해 서로소인 집합을 찾을 수 있다.\n",
    "parent = [0] * (v+1)\n",
    "# 자신 노드를 가리키도록 초기화\n",
    "for i in range(1, v+1):\n",
    "    parent[i] = i\n",
    "# 간선 정보\n",
    "for i in range(e):\n",
    "    # union 연산 정보\n",
    "    a, b = map(int, input().split())\n",
    "    union_parent(parent, a, b)\n",
    "# find_root node\n",
    "for i in range(1, v+1):\n",
    "    print(f\"{i}: {find_parent(parent, i)}\")\n",
    "# parent table\n",
    "for i in range(1, v+1):\n",
    "    print(f\"{i}: {parent[i]}\")"
   ]
  },
  {
   "cell_type": "markdown",
   "metadata": {},
   "source": [
    "##### `find 연산` 시간 복잡도 단축: `경로 압축` 기법\n",
    "- find_parent() 함수에서 최악의 경우 즉 모두 같은 집합에 속하는 경우 모든 노드를 재귀 호출해야하는 비효율적인 상황이 발생한다.\n",
    "- find 함수를 재귀적으로 호출하되, `바로 부모 테이블 값을 갱신하는 방법`"
   ]
  },
  {
   "cell_type": "code",
   "execution_count": null,
   "metadata": {},
   "outputs": [],
   "source": [
    "# 경로 압축 기법\n",
    "\n",
    "# 기존 방법\n",
    "def find_parent(parent, x):\n",
    "    if parent[x] != x:\n",
    "        # 루트 노드를 찾을 때까지 재귀 호출\n",
    "        return find_parent(parent, parent[x])\n",
    "    return x \n",
    "\n",
    "# 경로 압축\n",
    "def find_parent_path_compression(parent, x):\n",
    "    if parent[x] != x:\n",
    "        # 루트 노드를 찾을 때까지 재귀 호출\n",
    "        # union 연산 이후 함수 호출 시 각 테이블에 '루트 노드'를 저장\n",
    "        parent[x] = find_parent_path_compression(parent, parent[x])\n",
    "    return parent[x]"
   ]
  },
  {
   "cell_type": "code",
   "execution_count": 10,
   "metadata": {},
   "outputs": [
    {
     "name": "stdout",
     "output_type": "stream",
     "text": [
      "1: 1\n",
      "2: 1\n",
      "3: 1\n",
      "4: 1\n",
      "5: 5\n",
      "6: 5\n",
      "1: 1\n",
      "2: 1\n",
      "3: 1\n",
      "4: 1\n",
      "5: 5\n",
      "6: 5\n"
     ]
    }
   ],
   "source": [
    "# 경로 압축 서로소 집합 알고리즘 (union, find_path_compression)\n",
    "# parent table을 root node table로 사용하기\n",
    "# 방향성 그래프(트리)에서의 적용\n",
    "\n",
    "def union_parent(parent, a, b):\n",
    "    # 각 노드의 루트 노드를 찾음\n",
    "    a = find_parent_path_compression(parent, a)\n",
    "    b = find_parent_path_compression(parent, b)\n",
    "    # 찾은 본인의 루트 노드를 부모 테이블에 저장\n",
    "    if a < b:\n",
    "        parent[b] = a\n",
    "    else:\n",
    "        parent[a] = b\n",
    "\n",
    "# 경로 압축\n",
    "def find_parent_path_compression(parent, x):\n",
    "    if parent[x] != x:\n",
    "        # 루트 노드를 찾을 때까지 재귀 호출\n",
    "        # 찾으면 루트 부모 값을 저장\n",
    "        parent[x] = find_parent_path_compression(parent, parent[x])\n",
    "    return parent[x]\n",
    "\n",
    "# 노드 개수, 간선 개수\n",
    "v, e = map(int, input().split())\n",
    "# 자신의 루트 부모를 저장하는 루트 부모 테이블 생성\n",
    "# 자신이 속해있는 루트 부모를 통해 서로소인 집합을 찾을 수 있다.\n",
    "parent = [0] * (v+1)\n",
    "# 자신 노드를 가리키도록 초기화\n",
    "for i in range(1, v+1):\n",
    "    parent[i] = i\n",
    "# 간선 정보\n",
    "for i in range(e):\n",
    "    # union 연산 정보\n",
    "    a, b = map(int, input().split())\n",
    "    union_parent(parent, a, b)\n",
    "\n",
    "# union을 완료하고 find_parent_path_compression() 를 한번 호출해야\n",
    "# parent table을 root node table 로 사용 가능\n",
    "for i in range(1, v+1):\n",
    "    print(f\"{i}: {find_parent_path_compression(parent, i)}\")\n",
    "for i in range(1, v+1):\n",
    "    print(f\"{i}: {parent[i]}\")"
   ]
  },
  {
   "cell_type": "markdown",
   "metadata": {},
   "source": [
    "#### 서로소 집합 알고리즘을 활용한 무방향 그래프 사이클 판별 알고리즘\n",
    "- "
   ]
  },
  {
   "cell_type": "code",
   "execution_count": 13,
   "metadata": {},
   "outputs": [
    {
     "name": "stdout",
     "output_type": "stream",
     "text": [
      "위용위용! 사이클 1회 발생\n"
     ]
    }
   ],
   "source": [
    "# 서로소 집합 알고리즘을 활용한 무방향 그래프 사이클 판별 알고리즘\n",
    "# 무방향 그래프(트리 x)에서의 적용\n",
    "\n",
    "def union_parent(parent, a, b):\n",
    "    # 각 노드의 루트 노드를 찾음\n",
    "    a = find_parent_path_compression(parent, a)\n",
    "    b = find_parent_path_compression(parent, b)\n",
    "    # 찾은 본인의 루트 노드를 부모 테이블에 저장\n",
    "    if a < b:\n",
    "        parent[b] = a\n",
    "    else:\n",
    "        parent[a] = b\n",
    "\n",
    "# 경로 압축\n",
    "def find_parent_path_compression(parent, x):\n",
    "    if parent[x] != x:\n",
    "        # 루트 노드를 찾을 때까지 재귀 호출\n",
    "        # 찾으면 루트 부모 값을 저장\n",
    "        parent[x] = find_parent_path_compression(parent, parent[x])\n",
    "    return parent[x]\n",
    "\n",
    "# 노드 개수, 간선 개수\n",
    "v, e = map(int, input().split())\n",
    "# 자신의 루트 부모를 저장하는 루트 부모 테이블 생성\n",
    "# 자신이 속해있는 루트 부모를 통해 서로소인 집합을 찾을 수 있다.\n",
    "parent = [0] * (v+1)\n",
    "# 자신 노드를 가리키도록 초기화\n",
    "for i in range(1, v+1):\n",
    "    parent[i] = i\n",
    "\n",
    "cycle = False\n",
    "count = 0\n",
    "\n",
    "for i in range(e):\n",
    "    a, b = map(int, input().split())\n",
    "\n",
    "    if find_parent_path_compression(parent, a) == find_parent_path_compression(parent, b):\n",
    "        cycle = True\n",
    "        count += 1\n",
    "        break\n",
    "    else:\n",
    "        union_parent(parent, a, b)\n",
    "\n",
    "\n",
    "if cycle:\n",
    "    print(f\"위용위용! 사이클 {count}회 발생\")\n",
    "else:\n",
    "    print(\"에에에엥! 사이클 미발생\")"
   ]
  }
 ],
 "metadata": {
  "interpreter": {
   "hash": "b0fa6594d8f4cbf19f97940f81e996739fb7646882a419484c72d19e05852a7e"
  },
  "kernelspec": {
   "display_name": "Python 3.9.13 64-bit",
   "language": "python",
   "name": "python3"
  },
  "language_info": {
   "codemirror_mode": {
    "name": "ipython",
    "version": 3
   },
   "file_extension": ".py",
   "mimetype": "text/x-python",
   "name": "python",
   "nbconvert_exporter": "python",
   "pygments_lexer": "ipython3",
   "version": "3.9.13"
  },
  "orig_nbformat": 4
 },
 "nbformat": 4,
 "nbformat_minor": 2
}
