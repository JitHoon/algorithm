{
 "cells": [
  {
   "cell_type": "markdown",
   "metadata": {},
   "source": [
    "#### `위상 정렬` (Topology Sort)\n",
    "- `순서가 정해져 있는 작업을 차례대로 수행하는 알고리즘`\n",
    "- 시간 복잡도: O(`V+E`) (V: 노드 개수, E: 간선 개수)\n",
    "- 현재 노드의 간선을 제거하면서 모든 노드를 차례대로 확인\n",
    "\n",
    "1. `진입 차수가 0`인 노드를 Queue에 `append`\n",
    "    - 진입 차수(indegree) : 특정한 노드로 들어오는 간선의 개수\n",
    "2. Queue가 빌 때까지 다음 과정 반복\n",
    "    - Queue에서 원소를 `popleft`후 해당 `원소의 간선을 그래프에서 제거`\n",
    "    - `새롭게 진입 차수가 0`이 된 노들 Queue에 `append`\n",
    "3. `Queue에서 빠져나간 노드를 순서대로 출력`하면 위상 정렬 수행 결과이다."
   ]
  },
  {
   "cell_type": "code",
   "execution_count": 9,
   "metadata": {},
   "outputs": [
    {
     "name": "stdout",
     "output_type": "stream",
     "text": [
      "[1, 2, 5, 3, 6, 4, 7]\n"
     ]
    }
   ],
   "source": [
    "from collections import deque\n",
    "\n",
    "# v : 노드의 개수, e : 간선의 개수\n",
    "v, e = map(int, input().split())\n",
    "# 모든 노드의 진입 차수 0으로 초기화\n",
    "indegree = [0] * (v+1)\n",
    "# 간선 정보 담을 array 초기화\n",
    "gragh = [[] for _ in range(v+1)]\n",
    "# 간선 정보 입력\n",
    "for _ in range(e):\n",
    "    # a -> b 간선\n",
    "    a, b =map(int, input().split())\n",
    "    # 간선 정보 입력\n",
    "    gragh[a].append(b)\n",
    "    # 진입 차수 +1\n",
    "    indegree[b] += 1\n",
    "# 위상 정렬 수행 결과\n",
    "result = []\n",
    "# 위상 정렬 함수\n",
    "def topology_sort():\n",
    "    global result\n",
    "    q = deque()\n",
    "    # 진입 차수가 0인 노드 Queue에 삽입\n",
    "    for i in range(1, v+1):\n",
    "        if indegree[i] == 0:\n",
    "            q.append(i)\n",
    "    # q가 빌 때까지 위상 정렬 수행\n",
    "    while q:\n",
    "        now = q.popleft()\n",
    "        result.append(now)\n",
    "\n",
    "        for j in gragh[now]:\n",
    "            # now 원소의 간선을 제거\n",
    "            indegree[j] -= 1\n",
    "            # 새롭게 진입 차수가 0이된 노드 Queue에 삽입\n",
    "            if indegree[j] == 0:\n",
    "                q.append(j)\n",
    "\n",
    "topology_sort()\n",
    "print(result)\n"
   ]
  }
 ],
 "metadata": {
  "interpreter": {
   "hash": "b0fa6594d8f4cbf19f97940f81e996739fb7646882a419484c72d19e05852a7e"
  },
  "kernelspec": {
   "display_name": "Python 3.9.13 64-bit",
   "language": "python",
   "name": "python3"
  },
  "language_info": {
   "codemirror_mode": {
    "name": "ipython",
    "version": 3
   },
   "file_extension": ".py",
   "mimetype": "text/x-python",
   "name": "python",
   "nbconvert_exporter": "python",
   "pygments_lexer": "ipython3",
   "version": "3.9.13"
  },
  "orig_nbformat": 4
 },
 "nbformat": 4,
 "nbformat_minor": 2
}
