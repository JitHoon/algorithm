{
 "cells": [
  {
   "cell_type": "markdown",
   "metadata": {},
   "source": [
    "#### `신장 트리` (Spanning Tree)\n",
    "- 출제 빈도가 높다.\n",
    "- `하나의 그래프가 있을 때 모든 노드를 포함하면서 사이클이 존재하지 않는 부분 그래프`"
   ]
  },
  {
   "cell_type": "markdown",
   "metadata": {},
   "source": [
    "#### `크루스칼 알고리즘`\n",
    "##### CT 대표 문제: 최소 비용으로 도시간 도로를 모두 잇는 문제\n",
    "- `그리디` 알고리즘으로 분류된다.\n",
    "- (1)`가장 거리가 짧은 간선부터 차례대로 union.` (2)`이때 사이클이 발생하면(root node가 동일하면) 해당 간선은 제외한다.`\n",
    "- 간선수 = 노드수 -1\n",
    "\n",
    "1. 간선 데이터를 `비용에 따라 오름차순으로 정렬`한다.\n",
    "2. 간선을 하나씩 확인하며 `현재의 간선이 사이클을 발생시키는지 확인`한다.\n",
    "- `사이클이 발생하지 않는 경우 최소 신장 트리에 포함`시킨다.\n",
    "- 사이클이 발생하는 경우 최소 신장 트리에 포함시키지 않는다.\n",
    "3. 모든 간선에 대하여 2를 반복한다."
   ]
  },
  {
   "cell_type": "code",
   "execution_count": 4,
   "metadata": {},
   "outputs": [
    {
     "name": "stdout",
     "output_type": "stream",
     "text": [
      "[(3, 4, 7), (4, 7, 13), (4, 6, 23), (1, 2, 29), (2, 6, 34), (5, 6, 53)] 159\n"
     ]
    }
   ],
   "source": [
    "# find root node\n",
    "def find_parent_pc(parent, x):\n",
    "    if parent[x] != x:\n",
    "        parent[x] = find_parent_pc(parent, parent[x])\n",
    "    return parent[x]\n",
    "# union\n",
    "def union_parent(parent, a, b):\n",
    "    a = find_parent_pc(parent, a)\n",
    "    b = find_parent_pc(parent, b)\n",
    "    if a < b:\n",
    "        parent[b] = a\n",
    "    else:\n",
    "        parent[a] = b\n",
    "# 노드의 개수와 간선(union 연산)의 개수 입력받기\n",
    "v, e = map(int, input().split())\n",
    "parent = [0] * (v+1)\n",
    "# 모든 간선과 최종 비용, 사용된 간선\n",
    "roads = []\n",
    "all_cost = 0\n",
    "used_road = []\n",
    "# 부모를 자기 자신으로 부모 테이블상 초기화\n",
    "for i in range(1, v+1):\n",
    "    parent[i] = i\n",
    "# 모든 간선 정보를 roads에 저장\n",
    "for _ in range(e):\n",
    "    a, b, cost = map(int, input().split())\n",
    "    # 비용순 정렬을 위한 append\n",
    "    roads.append((cost, a, b))\n",
    "# 간선을 비용순으로 정렬\n",
    "roads.sort()\n",
    "# 사이클이 발생하는지 간선을 하나씩 확인\n",
    "for road in roads:\n",
    "    cost, a, b = road\n",
    "    # 사이클이 발생하지 않으면 비용에 추가\n",
    "    if find_parent_pc(parent, a) != find_parent_pc(parent, b):\n",
    "        union_parent(parent, a, b)\n",
    "        all_cost += cost\n",
    "        used_road.append((a, b, cost))\n",
    "\n",
    "# 사용된 간선 및 비용과 최종 최소 건설 비용\n",
    "print(used_road, all_cost)"
   ]
  }
 ],
 "metadata": {
  "interpreter": {
   "hash": "b0fa6594d8f4cbf19f97940f81e996739fb7646882a419484c72d19e05852a7e"
  },
  "kernelspec": {
   "display_name": "Python 3.9.13 64-bit",
   "language": "python",
   "name": "python3"
  },
  "language_info": {
   "codemirror_mode": {
    "name": "ipython",
    "version": 3
   },
   "file_extension": ".py",
   "mimetype": "text/x-python",
   "name": "python",
   "nbconvert_exporter": "python",
   "pygments_lexer": "ipython3",
   "version": "3.9.13"
  },
  "orig_nbformat": 4
 },
 "nbformat": 4,
 "nbformat_minor": 2
}
