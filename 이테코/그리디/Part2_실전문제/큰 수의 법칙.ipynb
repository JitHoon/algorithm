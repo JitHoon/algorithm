{
 "cells": [
  {
   "cell_type": "markdown",
   "metadata": {},
   "source": [
    "92p"
   ]
  },
  {
   "cell_type": "code",
   "execution_count": 7,
   "metadata": {},
   "outputs": [
    {
     "name": "stdout",
     "output_type": "stream",
     "text": [
      "46\n"
     ]
    }
   ],
   "source": [
    "# 5 8 3\n",
    "# 2 4 5 4 6\n",
    "\n",
    "# N : 배열의 크기, M : 더하는 횟수, K : 연속 가능 수\n",
    "# Data, result\n",
    "N, M, K = map(int, input().split()); Data = list(map(int, input().split())); result = 0\n",
    "\n",
    "# 가장 큰 수와 두 번재로 큰 수만 저장하면 된다.\n",
    "D_max1 = max(Data)\n",
    "Data.pop(Data.index(D_max1))\n",
    "D_max2 = max(Data)\n",
    "\n",
    "# 더하는 횟수 // 연속 가능 수 = 가장 큰 값을 더하는 횟수\n",
    "Q = M // K\n",
    "# 더하는 횟수 % 연속 가능 수 = 두번째로 큰 값을 더하는 횟수\n",
    "R = M % K\n",
    "\n",
    "result = K * Q * D_max1 + R * D_max2\n",
    "print(f\"{result}\")"
   ]
  }
 ],
 "metadata": {
  "interpreter": {
   "hash": "b0fa6594d8f4cbf19f97940f81e996739fb7646882a419484c72d19e05852a7e"
  },
  "kernelspec": {
   "display_name": "Python 3.9.13 64-bit",
   "language": "python",
   "name": "python3"
  },
  "language_info": {
   "codemirror_mode": {
    "name": "ipython",
    "version": 3
   },
   "file_extension": ".py",
   "mimetype": "text/x-python",
   "name": "python",
   "nbconvert_exporter": "python",
   "pygments_lexer": "ipython3",
   "version": "3.9.13"
  },
  "orig_nbformat": 4
 },
 "nbformat": 4,
 "nbformat_minor": 2
}
