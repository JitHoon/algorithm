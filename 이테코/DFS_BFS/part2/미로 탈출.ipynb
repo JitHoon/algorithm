{
 "cells": [
  {
   "cell_type": "markdown",
   "metadata": {},
   "source": [
    "152p"
   ]
  },
  {
   "cell_type": "code",
   "execution_count": 5,
   "metadata": {},
   "outputs": [
    {
     "name": "stdout",
     "output_type": "stream",
     "text": [
      "10\n"
     ]
    }
   ],
   "source": [
    "def bfs(row, col):\n",
    "    queue.append([row, col])\n",
    "    while queue:\n",
    "        # 가장 먼저 들어왔던 위치를 먼저 탐색\n",
    "        q = queue.popleft()\n",
    "        # 탐색 종료 조건\n",
    "        if q[0] == n-1 and q[1] == m-1:\n",
    "            return graph[n-1][m-1]\n",
    "        # 근처 4방향으로 탐색\n",
    "        for i in range(4):\n",
    "            x = q[0] + dx[i]\n",
    "            y = q[1] + dy[i]\n",
    "            # 판 안에 들어갈 때만 탐색\n",
    "            if 0 <= x < n and 0 <= y < m:\n",
    "                if graph[x][y]:\n",
    "                    # 가장 근처에 있는 길을 queue에 저장\n",
    "                    queue.append([x, y])\n",
    "                    # 방문 표시 = 출발지부터 이동한 거리\n",
    "                    graph[x][y] = graph[q[0]][q[1]] + 1\n",
    "\n",
    "\n",
    "from collections import deque\n",
    "\n",
    "n, m = map(int, input().split())\n",
    "graph = [list(map(int, input())) for _ in range(n)]\n",
    "queue = deque()\n",
    "# 상, 하, 좌, 우\n",
    "dx = [-1, 1, 0, 0]\n",
    "dy = [0, 0, -1, 1]\n",
    "\n",
    "print(bfs(0, 0))"
   ]
  }
 ],
 "metadata": {
  "interpreter": {
   "hash": "b0fa6594d8f4cbf19f97940f81e996739fb7646882a419484c72d19e05852a7e"
  },
  "kernelspec": {
   "display_name": "Python 3.9.13 64-bit",
   "language": "python",
   "name": "python3"
  },
  "language_info": {
   "codemirror_mode": {
    "name": "ipython",
    "version": 3
   },
   "file_extension": ".py",
   "mimetype": "text/x-python",
   "name": "python",
   "nbconvert_exporter": "python",
   "pygments_lexer": "ipython3",
   "version": "3.9.13"
  },
  "orig_nbformat": 4
 },
 "nbformat": 4,
 "nbformat_minor": 2
}
