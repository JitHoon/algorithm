{
 "cells": [
  {
   "cell_type": "markdown",
   "metadata": {},
   "source": [
    "152p"
   ]
  },
  {
   "cell_type": "code",
   "execution_count": 10,
   "metadata": {},
   "outputs": [
    {
     "ename": "KeyboardInterrupt",
     "evalue": "",
     "output_type": "error",
     "traceback": [
      "\u001b[0;31m---------------------------------------------------------------------------\u001b[0m",
      "\u001b[0;31mKeyboardInterrupt\u001b[0m                         Traceback (most recent call last)",
      "Cell \u001b[0;32mIn[10], line 30\u001b[0m\n\u001b[1;32m     27\u001b[0m dx \u001b[38;5;241m=\u001b[39m [\u001b[38;5;241m0\u001b[39m, \u001b[38;5;241m1\u001b[39m, \u001b[38;5;241m-\u001b[39m\u001b[38;5;241m1\u001b[39m, \u001b[38;5;241m0\u001b[39m]\n\u001b[1;32m     28\u001b[0m dy \u001b[38;5;241m=\u001b[39m [\u001b[38;5;241m1\u001b[39m, \u001b[38;5;241m0\u001b[39m, \u001b[38;5;241m0\u001b[39m, \u001b[38;5;241m-\u001b[39m\u001b[38;5;241m1\u001b[39m]\n\u001b[0;32m---> 30\u001b[0m \u001b[38;5;28mprint\u001b[39m(\u001b[43mbfs\u001b[49m\u001b[43m(\u001b[49m\u001b[38;5;241;43m0\u001b[39;49m\u001b[43m,\u001b[49m\u001b[43m \u001b[49m\u001b[38;5;241;43m0\u001b[39;49m\u001b[43m)\u001b[49m)\n",
      "Cell \u001b[0;32mIn[10], line 11\u001b[0m, in \u001b[0;36mbfs\u001b[0;34m(row, col)\u001b[0m\n\u001b[1;32m      9\u001b[0m x \u001b[38;5;241m=\u001b[39m row \u001b[38;5;241m+\u001b[39m dx[i]\n\u001b[1;32m     10\u001b[0m y \u001b[38;5;241m=\u001b[39m col \u001b[38;5;241m+\u001b[39m dy[i]\n\u001b[0;32m---> 11\u001b[0m \u001b[38;5;28;01mif\u001b[39;00m x \u001b[38;5;241m<\u001b[39m \u001b[38;5;241m0\u001b[39m \u001b[38;5;129;01mor\u001b[39;00m \u001b[43my\u001b[49m\u001b[43m \u001b[49m\u001b[38;5;241;43m<\u001b[39;49m\u001b[43m \u001b[49m\u001b[38;5;241;43m0\u001b[39;49m \u001b[38;5;129;01mor\u001b[39;00m x \u001b[38;5;241m>\u001b[39m\u001b[38;5;241m=\u001b[39m n \u001b[38;5;129;01mor\u001b[39;00m y\u001b[38;5;241m>\u001b[39m\u001b[38;5;241m=\u001b[39m m:\n\u001b[1;32m     12\u001b[0m     \u001b[38;5;28;01mcontinue\u001b[39;00m\n\u001b[1;32m     13\u001b[0m \u001b[38;5;28;01mif\u001b[39;00m graph[x][y]:\n",
      "\u001b[0;31mKeyboardInterrupt\u001b[0m: "
     ]
    }
   ],
   "source": [
    "def bfs(row, col):\n",
    "    global n, m, graph, queue, dx, dy\n",
    "    queue.append([row, col])\n",
    "\n",
    "    while queue:\n",
    "        row, col = queue.popleft()\n",
    "        \n",
    "        for i in range(4):\n",
    "            x = row + dx[i]\n",
    "            y = col + dy[i]\n",
    "            if x < 0 or y < 0 or x >= n or y>= m:\n",
    "                continue\n",
    "            if graph[x][y]:\n",
    "                graph[x][y] = graph[row][col] + 1\n",
    "                queue.append([x, y])\n",
    "            else:\n",
    "                continue\n",
    "    print(graph)\n",
    "    return graph[n-1][m-1]\n",
    "\n",
    "from collections import deque\n",
    "\n",
    "n, m = map(int, input().split())\n",
    "graph = [list(map(int, input())) for _ in range(n)]\n",
    "queue = deque()\n",
    "# 우, 아래, 위, 좌\n",
    "dx = [0, 1, -1, 0]\n",
    "dy = [1, 0, 0, -1]\n",
    "\n",
    "print(bfs(0, 0))"
   ]
  }
 ],
 "metadata": {
  "interpreter": {
   "hash": "b0fa6594d8f4cbf19f97940f81e996739fb7646882a419484c72d19e05852a7e"
  },
  "kernelspec": {
   "display_name": "Python 3.9.13 64-bit",
   "language": "python",
   "name": "python3"
  },
  "language_info": {
   "codemirror_mode": {
    "name": "ipython",
    "version": 3
   },
   "file_extension": ".py",
   "mimetype": "text/x-python",
   "name": "python",
   "nbconvert_exporter": "python",
   "pygments_lexer": "ipython3",
   "version": "3.9.13"
  },
  "orig_nbformat": 4
 },
 "nbformat": 4,
 "nbformat_minor": 2
}
