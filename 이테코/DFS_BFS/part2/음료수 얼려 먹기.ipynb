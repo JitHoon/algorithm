{
 "cells": [
  {
   "cell_type": "markdown",
   "metadata": {},
   "source": [
    "149p"
   ]
  },
  {
   "cell_type": "code",
   "execution_count": 10,
   "metadata": {},
   "outputs": [
    {
     "name": "stdout",
     "output_type": "stream",
     "text": [
      "3\n"
     ]
    }
   ],
   "source": [
    "def dfs(row, col):\n",
    "    global graph, result\n",
    "    # 방문한 곳 표시 : 아이스크림 중복 방지\n",
    "    graph[row][col] = 1\n",
    "    for k in range(2):\n",
    "        row += dx[k]\n",
    "        col += dy[k]\n",
    "        # 얼음틀 안에서만 탐색\n",
    "        if 0<= row < n and 0<= col < m:\n",
    "            # 연속해서 구멍이뚫려 있다면 연속 탐색\n",
    "            # dfs = stack = 재귀함수\n",
    "            if not graph[row][col]:\n",
    "                dfs(row, col)\n",
    "        row -= dx[k]\n",
    "        col -= dy[k]\n",
    "\n",
    "n, m = map(int, input().split())\n",
    "graph = [list(map(int, input())) for _ in range(n)]\n",
    "result = 0\n",
    "# 아이스크림 크기 탐색 도중 방분한 부분은 1로 변하기 때문에\n",
    "# 한 행 안에서 한 열씩 옮기면서 탐색시 필요한 방향은 우, 아래 뿐이다.\n",
    "dx = [0, 1]\n",
    "dy = [1, 0]\n",
    "# 한 행 안에서 한 열씩 옮기면서 0이 있는지 확인\n",
    "for i in range(n):\n",
    "    for j in range(m):\n",
    "        # 구멍이 뚫려있으면 아이스크림 크기 탐색 시작\n",
    "        if not graph[i][j]:\n",
    "            dfs(i, j)\n",
    "            # 탐색 끝나면 아이스크림 개수 += 1\n",
    "            result += 1\n",
    "print(result)"
   ]
  }
 ],
 "metadata": {
  "interpreter": {
   "hash": "b0fa6594d8f4cbf19f97940f81e996739fb7646882a419484c72d19e05852a7e"
  },
  "kernelspec": {
   "display_name": "Python 3.9.13 64-bit",
   "language": "python",
   "name": "python3"
  },
  "language_info": {
   "codemirror_mode": {
    "name": "ipython",
    "version": 3
   },
   "file_extension": ".py",
   "mimetype": "text/x-python",
   "name": "python",
   "nbconvert_exporter": "python",
   "pygments_lexer": "ipython3",
   "version": "3.9.13"
  },
  "orig_nbformat": 4
 },
 "nbformat": 4,
 "nbformat_minor": 2
}
