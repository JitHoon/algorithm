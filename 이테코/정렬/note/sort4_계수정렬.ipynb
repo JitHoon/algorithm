{
 "cells": [
  {
   "cell_type": "markdown",
   "metadata": {},
   "source": [
    "#### `계수`정렬\n",
    "- `숫자의 범위만큼 0으로 채워진 리스트 선언` 후 `숫자가 몇 번 등장했는지 count`하여 `리스트의 첫 번째 인덱스부터 하나씩 count 수 만큼 출력`\n",
    "- O(`N+K`)\n",
    "- 제한적인 사용 1 : `1,000,000 이하의 정수값들의 정렬에 대해서만 빠름`\n",
    "- 제한적인 사용 2 : `중복 데이터가 많을수록 공간 복잡도면에서 유리함`\n",
    "- `기수`정렬과 더불어서 가장 빠른 정렬 알고리즘이다. (기수 정렬은 처리 가능한 정수의 크기가 더 크다.)"
   ]
  },
  {
   "cell_type": "code",
   "execution_count": 7,
   "metadata": {},
   "outputs": [
    {
     "name": "stdout",
     "output_type": "stream",
     "text": [
      "[2, 2, 2, 1, 1, 2, 1, 1, 1, 3]\n",
      "0 0 1 1 2 2 3 4 5 5 6 7 8 9 9 9 "
     ]
    }
   ],
   "source": [
    "data = [7, 5, 9, 0, 3, 1, 6, 2, 9, 1, 4, 8, 9, 0, 5, 2]\n",
    "count = [0] * (max(data) + 1)\n",
    "\n",
    "for i in range(len(data)):\n",
    "    count[data[i]] += 1\n",
    "\n",
    "for i in range(len(count)):\n",
    "    for j in range(count[i]):\n",
    "        print(i, end=' ')"
   ]
  }
 ],
 "metadata": {
  "interpreter": {
   "hash": "b0fa6594d8f4cbf19f97940f81e996739fb7646882a419484c72d19e05852a7e"
  },
  "kernelspec": {
   "display_name": "Python 3.9.13 64-bit",
   "language": "python",
   "name": "python3"
  },
  "language_info": {
   "codemirror_mode": {
    "name": "ipython",
    "version": 3
   },
   "file_extension": ".py",
   "mimetype": "text/x-python",
   "name": "python",
   "nbconvert_exporter": "python",
   "pygments_lexer": "ipython3",
   "version": "3.9.13"
  },
  "orig_nbformat": 4
 },
 "nbformat": 4,
 "nbformat_minor": 2
}
