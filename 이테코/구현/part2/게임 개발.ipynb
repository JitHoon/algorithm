{
 "cells": [
  {
   "cell_type": "markdown",
   "metadata": {},
   "source": [
    "118p"
   ]
  },
  {
   "cell_type": "code",
   "execution_count": 3,
   "metadata": {},
   "outputs": [
    {
     "name": "stdout",
     "output_type": "stream",
     "text": [
      "[[1, 1, 1, 1], [1, 0, 0, 1], [1, 1, 0, 1], [1, 1, 1, 1]]\n",
      "0\n"
     ]
    }
   ],
   "source": [
    "# 작성중\n",
    "for _ in range(1, int(input())+1):\n",
    "    n, m = map(int, input().split()); row, col, direction =  map(int, input().split()); \n",
    "    data = [list(map(int, input().split())) for _ in range(m)]; result = 0;\n",
    "    \n",
    "    if direction == 0:\n",
    "        if data[row][col-1]:\n",
    "            continue\n",
    "        else:\n",
    "            data[row][col] = 1\n",
    "            col -= 1\n",
    "            direction = 3\n",
    "    elif direction == 1:\n",
    "        if data[row-1][col]:\n",
    "            continue\n",
    "        else:\n",
    "            data[row][col] = 1\n",
    "            row -= 1\n",
    "            direction = 0\n",
    "    elif direction == 2:\n",
    "        if data[row][col+1]:\n",
    "            continue\n",
    "        else:\n",
    "            data[row][col] = 1\n",
    "            col += 1\n",
    "            direction = 1\n",
    "    elif direction == 3:\n",
    "        if data[row+1][col]:\n",
    "            continue\n",
    "        else:\n",
    "            data[row][col] = 1\n",
    "            row += 1\n",
    "            direction = 2\n",
    "    print(result)"
   ]
  }
 ],
 "metadata": {
  "interpreter": {
   "hash": "b0fa6594d8f4cbf19f97940f81e996739fb7646882a419484c72d19e05852a7e"
  },
  "kernelspec": {
   "display_name": "Python 3.9.13 64-bit",
   "language": "python",
   "name": "python3"
  },
  "language_info": {
   "codemirror_mode": {
    "name": "ipython",
    "version": 3
   },
   "file_extension": ".py",
   "mimetype": "text/x-python",
   "name": "python",
   "nbconvert_exporter": "python",
   "pygments_lexer": "ipython3",
   "version": "3.9.13"
  },
  "orig_nbformat": 4
 },
 "nbformat": 4,
 "nbformat_minor": 2
}
