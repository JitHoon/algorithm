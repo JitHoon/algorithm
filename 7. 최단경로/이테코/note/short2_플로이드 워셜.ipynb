{
 "cells": [
  {
   "cell_type": "markdown",
   "metadata": {},
   "source": [
    "#### `플로이드 워셜 알고리즘`\n",
    "- `모든 노드에서 다른 모든 노드로 가는 모든 최단 경로를 구해주는 알고리즘`\n",
    "- 노드의 개수만큼 단계를 반복하여 점화식에 맞게 2차원 리스트를 갱신하므로 `DP 알고리즘`으로 분류된다.\n",
    "- `노드 개수가 적을 때` 다이익스트라 알고리즘보다 우선적으로 사용 (2차원 배열 이므로)"
   ]
  },
  {
   "cell_type": "markdown",
   "metadata": {},
   "source": [
    "1. `점화식`: min(A에서 B로 바로 가는 거리, A에서 K를 거쳐 B로 가는 거리)\n",
    "- `Dab = min(Dab, Dak + Dkb)`\n",
    "- 노드의 개수가 N개 일때 `각 노드마다 2차원 배열을 전부 탐색`하므로 시간 복잡도는 O(`N^3`)이다."
   ]
  },
  {
   "cell_type": "code",
   "execution_count": 1,
   "metadata": {},
   "outputs": [
    {
     "name": "stdout",
     "output_type": "stream",
     "text": [
      "[[1000000000, 1000000000, 1000000000, 1000000000, 1000000000], [1000000000, 0, 4, 8, 6], [1000000000, 3, 0, 7, 9], [1000000000, 5, 9, 0, 4], [1000000000, 7, 11, 2, 0]]\n"
     ]
    }
   ],
   "source": [
    "INF = int(1e9) # 10억\n",
    "\n",
    "# n: 노드의 개수, m: 간선의 개수\n",
    "n, m = map(int, input().split())\n",
    "\n",
    "# 노드 개수 * 노드 개수 만큼 2차원 최단 거리 테이블 만들고 무한 값으로 초기화\n",
    "gragh = [[INF] * (n+1) for _ in range(n+1)]\n",
    "# 대각선 부분은 본인까지의 거리이므로 0으로 초기화\n",
    "for i in range(1, n+1):\n",
    "    gragh[i][i] = 0\n",
    "# 간선 정보 및 비용 데이터로 2차원 최단 거리 테이블 값 세팅\n",
    "for _ in range(m):\n",
    "    a, b, c = map(int,  input().split())\n",
    "    gragh[a][b] = c\n",
    "\n",
    "# 플로이드 위셜 알고리즘 (반복문으로 점화식 표현)\n",
    "# 모든 2차원 배열에 대해서 값 갱신 (모든 2차원 배열 탐색)\n",
    "for k in range(1, n+1):\n",
    "    for a in range(1, n+1):\n",
    "        for b in range(1, n+1):\n",
    "            gragh[a][b] = min(gragh[a][b], gragh[a][k] + gragh[k][b])\n",
    "\n",
    "print(gragh)"
   ]
  }
 ],
 "metadata": {
  "interpreter": {
   "hash": "b0fa6594d8f4cbf19f97940f81e996739fb7646882a419484c72d19e05852a7e"
  },
  "kernelspec": {
   "display_name": "Python 3.9.13 64-bit",
   "language": "python",
   "name": "python3"
  },
  "language_info": {
   "codemirror_mode": {
    "name": "ipython",
    "version": 3
   },
   "file_extension": ".py",
   "mimetype": "text/x-python",
   "name": "python",
   "nbconvert_exporter": "python",
   "pygments_lexer": "ipython3",
   "version": "3.9.13"
  },
  "orig_nbformat": 4
 },
 "nbformat": 4,
 "nbformat_minor": 2
}
