{
 "cells": [
  {
   "cell_type": "markdown",
   "metadata": {},
   "source": [
    "#### `다익스트라 최단경로 알고리즘`\n",
    "- `특정한 노드에서 출발하여 다른 노드로 가는 각각의 최단 경로를 구해주는 알고리즘`\n",
    "- 가장 비용이 적은 노드부터 방문하는 `그리디 알고리즘`으로 분류된다.\n",
    "- `노드 개수가 많을 때` 플로이드 워셜 알고리즘 대신 사용 (1차원 배열이므로)"
   ]
  },
  {
   "cell_type": "markdown",
   "metadata": {},
   "source": [
    "1. `출발 노드` 설정 (`거리 0`)\n",
    "2. `최단 거리 테이블` 초기화\n",
    "3. 연결되어 있고 방문하지 않은 노드 중에서 `최단 거리가 가장 짧은 노드 방문`\n",
    "4. 해당 노드를 거쳐 다른 노드로 가는 비용을 계산하여 최단 거리 테이블 갱신\n",
    "- `각 노드에 대한 현재까지의 최단 거리를 저장하면 계속 갱신`해 나간다.\n",
    "5. 노드를 모두 방문할 때까지 3, 4 반복\n",
    "- 한번 방문하여 계산되어진 노드의 최단 거리는 방문 이후에 갱신되지 않는 것으로 보아 `한 단계당 하나의 노드에 대한 최단 거리를 확실히 찾는 것`으로 이해할 수 있다."
   ]
  },
  {
   "cell_type": "markdown",
   "metadata": {},
   "source": [
    "#### `개선된` 다익스트라 알고리즘 (V: 노드 개수, E: 간선의 개수)\n",
    "- 간단한 다익스트라 알고리즘의 시간 복잡도 : O(V^2)\n",
    "- (매번 최단 거리가 가장 짧은 노드를 찾기 위해 매번 최단거리 테이블을 선형적으로 탐색해야 함)\n",
    "- 개선된 다익스트라 알고리즘의 시간 복잡도 : O(ElogV)\n",
    "- (`Heap` 자료구조를 활용하여 log 시간이 소요된다.)\n",
    "\n"
   ]
  },
  {
   "cell_type": "markdown",
   "metadata": {},
   "source": [
    "##### `Heap` 자료구조\n",
    "- Heap 자료구조는 `우선순위가 가장 높은 데이터를 가장 먼저 삭제`하는 `우선순위 Queue`를 구현하기 위해 사용하는 자료구조이다.\n",
    "- 파이썬 라이브러리인 `headq`를 사용한다. (PriorityQueue 보다 실행 속도가 더 빠르다.)\n",
    "- 원소로 튜플을 입력받으면 `튜플의 첫 번째 원소를 기준`으로 우선순위 Queue를 구성한다.\n",
    "- 라이브러리 내부적으로 `값이 낮은 것부터 먼저 삭제`되는 `최소 힙 구조`가 default이다.\n",
    "- `최대 힙 구조`를 사용하기 위해 우선순위에 해당하는 값이 - 를 붙여 사용하는 경우도 있다."
   ]
  },
  {
   "cell_type": "code",
   "execution_count": 3,
   "metadata": {},
   "outputs": [
    {
     "name": "stdout",
     "output_type": "stream",
     "text": [
      "[1000000000, 0, 2, 3, 1, 2, 4]\n"
     ]
    }
   ],
   "source": [
    "\"\"\" import sys\n",
    "input = sys.stdin.readine \"\"\"\n",
    "import heapq\n",
    "INF = int(1e9)\n",
    "\n",
    "# n: 노드의 개수, m: 간선의 개수\n",
    "n, m = map(int, input().split())\n",
    "# start_node: 시작 노드 번호\n",
    "start_node  = int(input())\n",
    "# 최단 거리 테이블을 모두 무한으로 초기화\n",
    "# 시작 노드까지의 거리는 항상 0\n",
    "distance = [INF] * (n+1)\n",
    "distance[start_node] = 0\n",
    "\n",
    "# 노드 개수 만큼 간선 정보 저장용 리스트 공간 만들기\n",
    "gragh = [[] for _ in range(n+1)]\n",
    "# 모든 간선의 정보 담기\n",
    "for _ in range(m):\n",
    "    a, b, c = map(int, input().split())\n",
    "    # a번 노드에서 b번 노드로 가는 비용 c\n",
    "    # [[], [(2, 2), (3, 5), (4, 1)], ..., [(3, 1), (6, 2)], []]\n",
    "    gragh[a].append((b, c))\n",
    "\n",
    "# 다이익스트라 알고리즘\n",
    "def dijkstra(start):\n",
    "    # heapq에 사용할 우선순위 q용 array 선언\n",
    "    q = []\n",
    "    # 시작 노드로 가기 위한 최단 경로는 0으로 설정한 후 heap에 삽입\n",
    "    # heapq.heappush(heap, item): item을 우선 순위에 맞게 heap에 push\n",
    "    # (최단 거리, node): start_node에서 node까지의 최단 거리\n",
    "    heapq.heappush(q, (0, start))\n",
    "\n",
    "    # 우선순위 q가 비어있을 때까지 반복\n",
    "    while q:\n",
    "        # 방문할 노드에 대한 정보 꺼내기\n",
    "        min_d, now = heapq.heappop(q)\n",
    "        # 최단 거리 테이블에 있는 값보다 거리가 멀다면 탐색하지 x\n",
    "        # = 이미 방문하여 최단 거리로 갱신된 노드\n",
    "        if distance[now] < min_d:\n",
    "            continue\n",
    "        # 현재 노드와 연결된 다른 인접한 모든 노드들의 최단 경로 갱신\n",
    "        for node in gragh[now]:\n",
    "            # 현재 노드를 거쳐서, 다른 노드로 이동하는 거리\n",
    "            cost = min_d + node[1] # node[1]: 인접한 노드로 가는 비용\n",
    "            # 새로운 최단 경로일 경우\n",
    "            if cost < distance[node[0]]: # node[0]: 인접한 노드\n",
    "                distance[node[0]] = cost\n",
    "                heapq.heappush(q, (cost, node[0]))\n",
    "\n",
    "# 다익스트라 알고리즘 수행\n",
    "dijkstra(start_node)\n",
    "\n",
    "print(distance)    "
   ]
  },
  {
   "cell_type": "markdown",
   "metadata": {},
   "source": [
    "- Heap을 최단 경로 문제에 적용하면 `시작 노드로 부터 '거리'가 짧은 노드 순서대로 Queue에서 나올 수 있도록 한다.`\n",
    "- 노드를 하나씩 꺼내어 검사하는 while문은 노드의 개수 n이상의 횟수로는 반복되지 않는다. (각 한번씩만 방문하므로)\n",
    "- 노드의 개수만큼 반복하는 동안 연결된 간선을 모두 방문하므로 `def 함수는 최대 간선 수 m만큼 (n < m 이므로) 연산이 수행`된다.\n",
    "- 이때 간선을 체크하는 `E번의 과정에서 heapq의 push, pop 연산 시간을 합치면 logE^2` 만큼 걸리므로\n",
    "- O(ElogE^2) = O(2ElogE) = O(`ElogE`) 임을 알 수 있다."
   ]
  }
 ],
 "metadata": {
  "interpreter": {
   "hash": "b0fa6594d8f4cbf19f97940f81e996739fb7646882a419484c72d19e05852a7e"
  },
  "kernelspec": {
   "display_name": "Python 3.9.13 64-bit",
   "language": "python",
   "name": "python3"
  },
  "language_info": {
   "codemirror_mode": {
    "name": "ipython",
    "version": 3
   },
   "file_extension": ".py",
   "mimetype": "text/x-python",
   "name": "python",
   "nbconvert_exporter": "python",
   "pygments_lexer": "ipython3",
   "version": "3.9.13"
  },
  "orig_nbformat": 4
 },
 "nbformat": 4,
 "nbformat_minor": 2
}
