{
 "cells": [
  {
   "cell_type": "markdown",
   "metadata": {},
   "source": [
    "262p"
   ]
  },
  {
   "cell_type": "markdown",
   "metadata": {},
   "source": [
    "1. 플로이드 워셜 풀이"
   ]
  },
  {
   "cell_type": "code",
   "execution_count": 7,
   "metadata": {},
   "outputs": [
    {
     "name": "stdout",
     "output_type": "stream",
     "text": [
      "2 4\n",
      "[[1000000000, 1000000000, 1000000000, 1000000000], [1000000000, 0, 4, 2], [1000000000, 1000000000, 0, 1000000000], [1000000000, 1000000000, 1000000000, 0]]\n"
     ]
    }
   ],
   "source": [
    "# n : 도시의 개수, m : 통로의 개수, c : 메세지를 보내고자하는 도시\n",
    "# x, y : x에서 y로 전달, z : 전달에 걸리는 시간\n",
    "n, m, c = map(int, input().split())\n",
    "INF = int(1e9)\n",
    "table = [[INF] * (n+1) for _ in range(n+1)]\n",
    "for i in range(1, n+1):\n",
    "    table[i][i] = 0\n",
    "for _ in range(m):\n",
    "    x, y, z = map(int, input().split())\n",
    "    table[x][y] = z\n",
    "got, time = 0, 0\n",
    "\n",
    "for k in range(1, n+1):\n",
    "    for a in range(1, n+1):\n",
    "        for b in range(1, n+1):\n",
    "            table[a][b] = min(table[a][b], table[a][k] + table[k][b])\n",
    "for j in range(1, n+1):\n",
    "    if 0 < table[c][j] < INF:\n",
    "        got += 1\n",
    "        if time < table[c][j]:\n",
    "            time = table[c][j]\n",
    "print(got, time)\n",
    "print(table)\n",
    "\n",
    "# 이때 결과를 보면 1차원 배열에만 결과값들이 모여있다 -> dijkstra 문제로 해결 가능"
   ]
  },
  {
   "cell_type": "markdown",
   "metadata": {},
   "source": [
    "2. 다이익스트라 풀이"
   ]
  },
  {
   "cell_type": "code",
   "execution_count": 20,
   "metadata": {},
   "outputs": [
    {
     "name": "stdout",
     "output_type": "stream",
     "text": [
      "2 4\n",
      "[1000000000, 0, 4, 2]\n"
     ]
    }
   ],
   "source": [
    "import heapq\n",
    "INF = int(1e9)\n",
    "# n : 도시의 개수, m : 통로의 개수, c : 메세지를 보내고자 하는 도시\n",
    "n, m, c = map(int, input().split())\n",
    "table = [INF] * (n+1)\n",
    "table[c] = 0\n",
    "\n",
    "gragh = [[] for _ in range(n+1)]\n",
    "for _ in range(m):\n",
    "    # x, y : x에서 y로 전달, z : 전달에 걸리는 시간\n",
    "    x, y, z = map(int, input().split())\n",
    "    gragh[x].append((y, z))\n",
    "\n",
    "got, time = 0, 0\n",
    "q = []\n",
    "\n",
    "def dijkstra(start):\n",
    "    heapq.heappush(q, (0, start))\n",
    "\n",
    "    while q:\n",
    "        cost, now = heapq.heappop(q)\n",
    "        \n",
    "        if table[now] < cost:\n",
    "            continue\n",
    "\n",
    "        for inf in gragh[now]:\n",
    "            # inf[0]: next, inf[1]: cost\n",
    "            now_cost = table[inf[0]]\n",
    "            new_cost = table[now] + inf[1]\n",
    "            if now_cost > new_cost:\n",
    "                table[inf[0]] = new_cost\n",
    "                heapq.heappush(q, (new_cost, inf[0]))\n",
    "\n",
    "dijkstra(c)\n",
    "\n",
    "for t in table:\n",
    "    if 0 < t < INF:\n",
    "        got += 1\n",
    "        if time < t:\n",
    "            time = t\n",
    "print(got, time)\n",
    "print(table)"
   ]
  }
 ],
 "metadata": {
  "interpreter": {
   "hash": "b0fa6594d8f4cbf19f97940f81e996739fb7646882a419484c72d19e05852a7e"
  },
  "kernelspec": {
   "display_name": "Python 3.9.13 64-bit",
   "language": "python",
   "name": "python3"
  },
  "language_info": {
   "codemirror_mode": {
    "name": "ipython",
    "version": 3
   },
   "file_extension": ".py",
   "mimetype": "text/x-python",
   "name": "python",
   "nbconvert_exporter": "python",
   "pygments_lexer": "ipython3",
   "version": "3.9.13"
  },
  "orig_nbformat": 4
 },
 "nbformat": 4,
 "nbformat_minor": 2
}
