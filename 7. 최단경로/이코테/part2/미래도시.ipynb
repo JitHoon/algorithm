{
 "cells": [
  {
   "cell_type": "markdown",
   "metadata": {},
   "source": [
    "259p"
   ]
  },
  {
   "cell_type": "code",
   "execution_count": 3,
   "metadata": {},
   "outputs": [
    {
     "name": "stdout",
     "output_type": "stream",
     "text": [
      "3\n"
     ]
    }
   ],
   "source": [
    "# n : 회사의 개수, m : 경로의 개수\n",
    "n, m = map(int, input().split())\n",
    "# table : 2차원 최단 경로 테이블\n",
    "INF = int(1e9)\n",
    "table = [[INF]*(n+1) for _ in range(n+1)]\n",
    "for i in range(1, n+1):\n",
    "    table[i][i] = 0\n",
    "# 양방향 이동이 가능하고 각 거리마다 비용은 모두 1이다.\n",
    "for _ in range(m):\n",
    "    node, connect = map(int, input().split())\n",
    "    table[node][connect] = 1\n",
    "    table[connect][node] = 1\n",
    "# x : 방문 판매 , k : 소개팅\n",
    "x, k = map(int, input().split())\n",
    "# 1 -> k -> x 로 가는 최단 거리를 구하는 문제이므로\n",
    "# 플로이드 워셜 알고리즘 사용\n",
    "# 모든 2차원 배열에 대해서 값 갱신 (모든 2차원 배열 탐색)\n",
    "for k in range(1, n+1):\n",
    "    for a in range(1, n+1):\n",
    "        for b in range(1, n+1):\n",
    "            table[a][b] = min(table[a][b], table[a][k] + table[k][b])\n",
    "# 1 -> k -> x 로 가는 최단 거리 결과\n",
    "distance = table[1][k] + table[k][x]\n",
    "# 결과값 출력\n",
    "if distance >= INF:\n",
    "    print(\"-1\")\n",
    "else:\n",
    "    print(distance)"
   ]
  }
 ],
 "metadata": {
  "interpreter": {
   "hash": "b0fa6594d8f4cbf19f97940f81e996739fb7646882a419484c72d19e05852a7e"
  },
  "kernelspec": {
   "display_name": "Python 3.9.13 64-bit",
   "language": "python",
   "name": "python3"
  },
  "language_info": {
   "codemirror_mode": {
    "name": "ipython",
    "version": 3
   },
   "file_extension": ".py",
   "mimetype": "text/x-python",
   "name": "python",
   "nbconvert_exporter": "python",
   "pygments_lexer": "ipython3",
   "version": "3.9.13"
  },
  "orig_nbformat": 4
 },
 "nbformat": 4,
 "nbformat_minor": 2
}
