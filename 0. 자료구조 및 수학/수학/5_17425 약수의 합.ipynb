{
 "cells": [
  {
   "cell_type": "markdown",
   "metadata": {},
   "source": [
    "https://www.acmicpc.net/problem/17425"
   ]
  },
  {
   "cell_type": "code",
   "execution_count": null,
   "metadata": {},
   "outputs": [],
   "source": [
    "import sys\n",
    "\n",
    "while True:\n",
    "  try:\n",
    "      loop = int(sys.stdin.readline())\n",
    "  except:\n",
    "      break\n",
    "\n",
    "  for _ in range(loop):\n",
    "    N = int(sys.stdin.readline())\n",
    "    result = 0\n",
    "    \n",
    "    for n in range(1, N + 1):\n",
    "      result += (N/n)*n\n",
    "    \n",
    "    print(result)\n",
    "\n",
    "# 시간 초과"
   ]
  },
  {
   "cell_type": "markdown",
   "metadata": {},
   "source": [
    "위 코드에서 시간 초과가 나는 이유는 시간복잡도 때문이다.  \n",
    "\n",
    "그렇다면 이 문제를 해결하는 방법은 무엇일까?  \n",
    "바로 불필요하게 반복되는 경우를 줄이고 미리 모든 g(n)을 저장해두는 것이다.  \n",
    "그렇게 된다면 설사 10만번의 테스트케이스에서 모두 100만이 입력된다고 해도 매번 같은 계산을 중복할 필요가 없어진다.  \n",
    "이 문제에서는 g(N)은 결국 g(N)과 g(N-1)의 합아라는 점을 알아야 풀이가 가능하다.  "
   ]
  },
  {
   "cell_type": "code",
   "execution_count": null,
   "metadata": {},
   "outputs": [],
   "source": [
    "import sys\n",
    "\n",
    "# n에 대한 약수의 합을 미리 배열로 저장\n",
    "MAX = 1000000\n",
    "g = [0]*(MAX+1)\n",
    "\n",
    "for i in range(1, MAX + 1):\n",
    "    for j in range(i, MAX + 1, i):\n",
    "        g[j] += i\n",
    "    g[i] += g[i - 1]\n",
    "\n",
    "T = int(sys.stdin.readline())\n",
    "N = [int(sys.stdin.readline().strip()) for i in range(T)]\n",
    "\n",
    "for n in N:\n",
    "    print(g[n])"
   ]
  }
 ],
 "metadata": {
  "kernelspec": {
   "display_name": "Python 3",
   "language": "python",
   "name": "python3"
  },
  "language_info": {
   "codemirror_mode": {
    "name": "ipython",
    "version": 3
   },
   "file_extension": ".py",
   "mimetype": "text/x-python",
   "name": "python",
   "nbconvert_exporter": "python",
   "pygments_lexer": "ipython3",
   "version": "3.9.13"
  }
 },
 "nbformat": 4,
 "nbformat_minor": 2
}
