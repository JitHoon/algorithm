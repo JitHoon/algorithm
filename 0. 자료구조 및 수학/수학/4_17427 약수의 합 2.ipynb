{
 "cells": [
  {
   "cell_type": "markdown",
   "metadata": {},
   "source": [
    "백준_17427번_약수의 합 2 : https://www.acmicpc.net/problem/17427"
   ]
  },
  {
   "cell_type": "markdown",
   "metadata": {},
   "source": [
    "[문제 요약]\n",
    "\n",
    "- f(A) = A의 약수의 합\n",
    "- g(N) = f(1) + f(2) + ... + f(N)\n",
    "- N이 주어졌을 때, g(N)을 구하는 문제"
   ]
  },
  {
   "cell_type": "code",
   "execution_count": null,
   "metadata": {},
   "outputs": [],
   "source": [
    "import sys\n",
    "\n",
    "N = int(sys.stdin.readline())\n",
    "\n",
    "result = 0\n",
    "\n",
    "for n in range(1, N+1):\n",
    "  for m in range(1, N+1):\n",
    "    if (m%n == 0):\n",
    "      result += n\n",
    "\n",
    "print(result) # 시간 복잡도가 O(n^2)으로 시간 초과"
   ]
  },
  {
   "cell_type": "markdown",
   "metadata": {},
   "source": [
    "약수를 구하는 방법에는 두 가지가 있다.\n",
    "1. 자연수 N이 주어졌을 때, 1부터 N까지 나누어가면서 나머지가 0인 값을 구하는 방법\n",
    "2. 자연수 N이 주어졌을 때, 약수는 서로 대칭구조를 이루고 있으므로 1부터 √A 까지의 약수를 구하는 방법\n",
    "\n",
    " \n",
    "\n",
    "그러나 이 문제에서는 시간 제한이 1초 이므로 시간 초과로 위의 방법을 사용할 수 없다.\n",
    "\n",
    "그렇다면,\n",
    "3의 배수를 생각해보자. 3의 배수는 3, 6, 9, ... 이다.  \n",
    "즉, 3의 배수는 3을 약수로 갖는다.  \n",
    "또한 4의 배수는 4를 항상 약수로 갖는다.  \n",
    "또한 5의 배수는 5를 항상 약수로 갖는다.  \n",
    ".\n",
    ".\n",
    ".\n",
    "N의 배수는 N을 항상 약수로 갖는다.  \n",
    "그러므로 N 이하의 자연수 중에서 i를 약수로 갖는 개수는 N/i개 이다.  \n",
    "\n",
    "이런 원리를 이용해서 약수의 갯수를 구할 수 있다.  \n",
    "이제 그 갯수에 약수만 곱하여 더하면 문제의 답을 구할 수 있다.  \n",
    "g(N) = 1×N/1 + 2×N/2 + ... + N×N/N  \n",
    "이 경우의 시간 복잡도는 O(n)이다."
   ]
  },
  {
   "cell_type": "code",
   "execution_count": null,
   "metadata": {},
   "outputs": [],
   "source": [
    "import sys\n",
    "\n",
    "n = int(sys.stdin.readline())\n",
    "result = 0\n",
    "\n",
    "for i in range(1, n+1):\n",
    "  result += (n//i)*i\n",
    "\n",
    "print(result)"
   ]
  }
 ],
 "metadata": {
  "kernelspec": {
   "display_name": "Python 3",
   "language": "python",
   "name": "python3"
  },
  "language_info": {
   "codemirror_mode": {
    "name": "ipython",
    "version": 3
   },
   "file_extension": ".py",
   "mimetype": "text/x-python",
   "name": "python",
   "nbconvert_exporter": "python",
   "pygments_lexer": "ipython3",
   "version": "3.9.13"
  }
 },
 "nbformat": 4,
 "nbformat_minor": 2
}
