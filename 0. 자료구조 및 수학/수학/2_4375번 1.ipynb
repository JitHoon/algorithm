{
 "cells": [
  {
   "cell_type": "markdown",
   "metadata": {},
   "source": [
    "백준_4375번_1 : https://www.acmicpc.net/problem/4375"
   ]
  },
  {
   "cell_type": "code",
   "execution_count": 17,
   "metadata": {},
   "outputs": [
    {
     "name": "stdout",
     "output_type": "stream",
     "text": [
      "12\n"
     ]
    }
   ],
   "source": [
    "import sys\n",
    "\n",
    "while 1:\n",
    "  try:\n",
    "    n = int(sys.stdin.readline())\n",
    "  except:\n",
    "    break\n",
    "  \n",
    "  num = '1'\n",
    "\n",
    "  while(int(num) % n != 0):\n",
    "    num += '1'\n",
    "\n",
    "  print(len(num))"
   ]
  },
  {
   "cell_type": "markdown",
   "metadata": {},
   "source": [
    "백준에서 입력 받을 때 유의사항: 무한 while문 안에 try, except로 입력을 계속 받아옴"
   ]
  }
 ],
 "metadata": {
  "kernelspec": {
   "display_name": "Python 3",
   "language": "python",
   "name": "python3"
  },
  "language_info": {
   "codemirror_mode": {
    "name": "ipython",
    "version": 3
   },
   "file_extension": ".py",
   "mimetype": "text/x-python",
   "name": "python",
   "nbconvert_exporter": "python",
   "pygments_lexer": "ipython3",
   "version": "3.9.13"
  }
 },
 "nbformat": 4,
 "nbformat_minor": 2
}
