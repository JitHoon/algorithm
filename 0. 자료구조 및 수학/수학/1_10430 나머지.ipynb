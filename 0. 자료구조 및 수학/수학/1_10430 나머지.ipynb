{
 "cells": [
  {
   "cell_type": "markdown",
   "metadata": {},
   "source": [
    "https://www.acmicpc.net/problem/10430"
   ]
  },
  {
   "cell_type": "code",
   "execution_count": null,
   "metadata": {},
   "outputs": [],
   "source": [
    "import sys\n",
    "\n",
    "A, B, C = map(int,sys.stdin.readline().split())\n",
    "\n",
    "print((A+B)%C)\n",
    "print(((A%C) + (B%C))%C)\n",
    "print((A*B)%C)\n",
    "print(((A%C) * (B%C))%C)"
   ]
  },
  {
   "cell_type": "markdown",
   "metadata": {},
   "source": [
    "- 나눗셈 : \"/\"\n",
    "- 나눗셈의 몫 : \"//\"\n",
    "- 나눗셈의 나머지 : \"%\"\n",
    "- 나눗셈의 몫과 나머지(튜플 형식) : divmod()"
   ]
  },
  {
   "cell_type": "code",
   "execution_count": 5,
   "metadata": {},
   "outputs": [
    {
     "name": "stdout",
     "output_type": "stream",
     "text": [
      "몫: 1 \n",
      "나머지: 2\n"
     ]
    }
   ],
   "source": [
    "# 나눗셈의 몫과 나머지(튜플 형식) : divmod()\n",
    "\n",
    "a = 5\n",
    "b = 3\n",
    "c, d = divmod(a, b)\n",
    "print(\"몫:\", c, \"\\n나머지:\", d)"
   ]
  }
 ],
 "metadata": {
  "kernelspec": {
   "display_name": "Python 3",
   "language": "python",
   "name": "python3"
  },
  "language_info": {
   "codemirror_mode": {
    "name": "ipython",
    "version": 3
   },
   "file_extension": ".py",
   "mimetype": "text/x-python",
   "name": "python",
   "nbconvert_exporter": "python",
   "pygments_lexer": "ipython3",
   "version": "3.9.13"
  }
 },
 "nbformat": 4,
 "nbformat_minor": 2
}
