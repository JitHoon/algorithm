{
 "cells": [
  {
   "cell_type": "markdown",
   "metadata": {},
   "source": [
    "백준_1037번_약수 : https://www.acmicpc.net/problem/1037"
   ]
  },
  {
   "cell_type": "code",
   "execution_count": 1,
   "metadata": {},
   "outputs": [
    {
     "name": "stdout",
     "output_type": "stream",
     "text": [
      "4\n"
     ]
    }
   ],
   "source": [
    "import sys\n",
    "\n",
    "number = int(sys.stdin.readline())\n",
    "data = list(map(int, sys.stdin.readline().split()))\n",
    "\n",
    "print(min(data) * max(data))"
   ]
  },
  {
   "cell_type": "markdown",
   "metadata": {},
   "source": [
    "1과 n을 제외한 약수 중에서 최대값과 최소값을 곱하면 해당 정수 n 자체가 됩니다. \n",
    "\n",
    "이는 어떤 수의 약수 중에서 1과 자기 자신을 제외한 약수는 항상 쌍을 이루기 때문입니다. 따라서 최대값과 최소값을 곱하면:\n",
    "\n",
    "(최소값)×(최대값) = n\n",
    "\n",
    "결과는 주어진 정수 n의 값과 같습니다."
   ]
  }
 ],
 "metadata": {
  "kernelspec": {
   "display_name": "Python 3",
   "language": "python",
   "name": "python3"
  },
  "language_info": {
   "codemirror_mode": {
    "name": "ipython",
    "version": 3
   },
   "file_extension": ".py",
   "mimetype": "text/x-python",
   "name": "python",
   "nbconvert_exporter": "python",
   "pygments_lexer": "ipython3",
   "version": "3.9.13"
  }
 },
 "nbformat": 4,
 "nbformat_minor": 2
}
