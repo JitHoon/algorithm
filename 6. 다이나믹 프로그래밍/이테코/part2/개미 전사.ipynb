{
 "cells": [
  {
   "cell_type": "markdown",
   "metadata": {},
   "source": [
    "220p"
   ]
  },
  {
   "cell_type": "markdown",
   "metadata": {},
   "source": [
    "#### `점화식`\n",
    "##### `D[i] = max(D[i-1], D[i-2] + 털려고 하는 창고 가치)`\n",
    "- D[i-1]를 털었다면 D[i] 창고를 털 수 없다.\n",
    "- D[i-2]를 털었다면 D[i] 창고를 털 수 있다."
   ]
  },
  {
   "cell_type": "code",
   "execution_count": 7,
   "metadata": {},
   "outputs": [
    {
     "name": "stdout",
     "output_type": "stream",
     "text": [
      "8\n"
     ]
    }
   ],
   "source": [
    "# 메뚜기 식량 창고 개수\n",
    "N = int(input())\n",
    "# 메뚜기 식량 창고 가치\n",
    "storage = list(map(int, input().split()))\n",
    "# 주어진 식량 창고 개수 최대 개수만큼 메모리 확보\n",
    "table = [0] * 100\n",
    "\n",
    "# 첫 창고만 털 경우\n",
    "table[0] = storage[0]\n",
    "# 둘 중 한 창고만 털 경우\n",
    "table[1] = max(storage[0], storage[1])\n",
    "\n",
    "# 마지막 창고를 털 경우와 털지 않을 경우\n",
    "# = 마지막 창고의 이전 창고를 털 경우와 털지 않을 경우로 나누어 점화식 작성\n",
    "for i in range(2, len(storage)):\n",
    "    table[i] = max(table[i-2] + storage[i], table[i-1])\n",
    "\n",
    "print(table[3])"
   ]
  }
 ],
 "metadata": {
  "interpreter": {
   "hash": "b0fa6594d8f4cbf19f97940f81e996739fb7646882a419484c72d19e05852a7e"
  },
  "kernelspec": {
   "display_name": "Python 3.9.13 64-bit",
   "language": "python",
   "name": "python3"
  },
  "language_info": {
   "codemirror_mode": {
    "name": "ipython",
    "version": 3
   },
   "file_extension": ".py",
   "mimetype": "text/x-python",
   "name": "python",
   "nbconvert_exporter": "python",
   "pygments_lexer": "ipython3",
   "version": "3.9.13"
  },
  "orig_nbformat": 4
 },
 "nbformat": 4,
 "nbformat_minor": 2
}
