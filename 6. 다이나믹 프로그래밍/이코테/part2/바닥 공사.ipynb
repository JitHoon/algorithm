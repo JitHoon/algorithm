{
 "cells": [
  {
   "cell_type": "markdown",
   "metadata": {},
   "source": [
    "223p"
   ]
  },
  {
   "cell_type": "markdown",
   "metadata": {},
   "source": [
    "#### `점화식`\n",
    "##### `D[i] = D[i-1] + D[i-2] * 2`\n",
    "- 2x1 바닥이 남았을 때 -> 경우의 수 1 가지\n",
    "- 2x2 바닥이 남았을 때 -> 경우의 수 2 가지\n",
    "(2x1 남았을 때와 중복되는 경우 제외)"
   ]
  },
  {
   "cell_type": "code",
   "execution_count": 1,
   "metadata": {},
   "outputs": [
    {
     "name": "stdout",
     "output_type": "stream",
     "text": [
      "5\n"
     ]
    }
   ],
   "source": [
    "N = int(input())\n",
    "# 가로 범위중 최대값만큼 메모리 확보\n",
    "table = [0] * 1000\n",
    "\n",
    "# 가로의 길이가 0, 1, 2 일 때 경우의 수를 초기값으로 저장\n",
    "table[0] = 0\n",
    "table[1] = 1\n",
    "table[2] = 3\n",
    "\n",
    "# table[3] = table[1]*2 + table[2]\n",
    "for i in range(3, N+1):\n",
    "    table[i] = table[i-2]*2 + table[i-1]\n",
    "\n",
    "print(table[N])"
   ]
  }
 ],
 "metadata": {
  "interpreter": {
   "hash": "b0fa6594d8f4cbf19f97940f81e996739fb7646882a419484c72d19e05852a7e"
  },
  "kernelspec": {
   "display_name": "Python 3.9.13 64-bit",
   "language": "python",
   "name": "python3"
  },
  "language_info": {
   "codemirror_mode": {
    "name": "ipython",
    "version": 3
   },
   "file_extension": ".py",
   "mimetype": "text/x-python",
   "name": "python",
   "nbconvert_exporter": "python",
   "pygments_lexer": "ipython3",
   "version": "3.9.13"
  },
  "orig_nbformat": 4
 },
 "nbformat": 4,
 "nbformat_minor": 2
}
