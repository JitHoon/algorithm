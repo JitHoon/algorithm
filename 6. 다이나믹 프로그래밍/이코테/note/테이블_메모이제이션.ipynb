{
 "cells": [
  {
   "cell_type": "markdown",
   "metadata": {},
   "source": [
    "#### `DP`\n",
    "1. 큰 문제를 작은 문제로 나눌 수 있다.\n",
    "2. 작은 문제에서 구한 정답은 그것을 포함하는 큰 문제에서도 동일하다."
   ]
  },
  {
   "cell_type": "markdown",
   "metadata": {},
   "source": [
    "#### `메모이제이션` (캐싱)\n",
    "- 한 번 구한 결과를 메모리 공간에 메모해두고 같은 식일 호출되면 메모한 결과를 그대로 가져오는 기법\n",
    "- 메모이제이션은 `탑다운 방식에 국한되어 사용`되는 표현이다."
   ]
  },
  {
   "cell_type": "code",
   "execution_count": 9,
   "metadata": {},
   "outputs": [
    {
     "name": "stdout",
     "output_type": "stream",
     "text": [
      "218922995834555169026\n"
     ]
    }
   ],
   "source": [
    "# 피보나치 수열 (반복문 _ 효율이 더 좋음)\n",
    "# Bottom Up : 작은 문제로 큰 문제를 해결\n",
    "# dp_table은 보텀업 방식에 국한되어 사용되는 표현이다.\n",
    "\n",
    "# dp_table를 위한 리스트 공간 확보\n",
    "dp_table = [0] * 100\n",
    "\n",
    "dp_table[1] = 1\n",
    "dp_table[2] = 1\n",
    "n = 99\n",
    "\n",
    "for i in range(3, n+1):\n",
    "    dp_table[i] = dp_table[i-1] + dp_table[i-2]\n",
    "\n",
    "print(dp_table[99])\n"
   ]
  },
  {
   "cell_type": "code",
   "execution_count": 8,
   "metadata": {},
   "outputs": [
    {
     "name": "stdout",
     "output_type": "stream",
     "text": [
      "218922995834555169026\n"
     ]
    }
   ],
   "source": [
    "# 피보나치 수열 (재귀함수)\n",
    "# Top Down : 큰 문제를 해결하기 위해 작은 문제 호출\n",
    "# 메모이제이션은 탑다운 방식에 국한되어 사용되는 표현이다.\n",
    "\n",
    "# 메모를 위한 리스트 공간 확보\n",
    "memo = [0] * 100\n",
    "\n",
    "def pibo(x):\n",
    "    # 종료 조건\n",
    "    if x == 1 or x == 2:\n",
    "        return 1\n",
    "    # 앞서 계산된 결과 바로 가져오기\n",
    "    if memo[x] != 0:\n",
    "        return memo[x]\n",
    "    # 피보나치 수열 점화식\n",
    "    memo[x] = pibo(x - 1) + pibo(x - 2)\n",
    "    return memo[x]\n",
    "\n",
    "print(pibo(99))"
   ]
  }
 ],
 "metadata": {
  "interpreter": {
   "hash": "b0fa6594d8f4cbf19f97940f81e996739fb7646882a419484c72d19e05852a7e"
  },
  "kernelspec": {
   "display_name": "Python 3.9.13 64-bit",
   "language": "python",
   "name": "python3"
  },
  "language_info": {
   "codemirror_mode": {
    "name": "ipython",
    "version": 3
   },
   "file_extension": ".py",
   "mimetype": "text/x-python",
   "name": "python",
   "nbconvert_exporter": "python",
   "pygments_lexer": "ipython3",
   "version": "3.9.13"
  },
  "orig_nbformat": 4
 },
 "nbformat": 4,
 "nbformat_minor": 2
}
