{
 "cells": [
  {
   "cell_type": "markdown",
   "metadata": {},
   "source": [
    "#### `구현`\n",
    "- 풀이를 떠올리는 것은 쉽지만 소스코드를 옮기기 어려운 문제\n",
    "- `문제에서 제시한 알고리즘을 한 단계씩 차례로 직접 수행하면서 모든 경우의 수를 모두 계산해 나가는 풀이`"
   ]
  }
 ],
 "metadata": {
  "language_info": {
   "name": "python"
  },
  "orig_nbformat": 4
 },
 "nbformat": 4,
 "nbformat_minor": 2
}
