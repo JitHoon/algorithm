{
 "cells": [
  {
   "cell_type": "markdown",
   "metadata": {},
   "source": [
    "115p"
   ]
  },
  {
   "cell_type": "code",
   "execution_count": 19,
   "metadata": {},
   "outputs": [
    {
     "name": "stdout",
     "output_type": "stream",
     "text": [
      "6\n"
     ]
    }
   ],
   "source": [
    "for tc in range(1, int(input())+1):\n",
    "    col, row = map(str, input()); row = int(row); col = ord(col); result = 0\n",
    "    # print(chr(ord(row)+1)) : b (98)\n",
    "    dx = [1, -1, 1, -1, -2, -2, 2, 2]\n",
    "    dy = [2, 2, -2, -2, 1, -1, 1, -1]\n",
    "\n",
    "    for i in range(len(dx)):\n",
    "        row += dx[i]\n",
    "        col += dy[i]\n",
    "        if 0 < row < 9 and 96 < col < 105:\n",
    "            result += 1\n",
    "        row -= dx[i]\n",
    "        col -= dy[i]\n",
    "\n",
    "    print(result)"
   ]
  }
 ],
 "metadata": {
  "interpreter": {
   "hash": "b0fa6594d8f4cbf19f97940f81e996739fb7646882a419484c72d19e05852a7e"
  },
  "kernelspec": {
   "display_name": "Python 3.9.13 64-bit",
   "language": "python",
   "name": "python3"
  },
  "language_info": {
   "codemirror_mode": {
    "name": "ipython",
    "version": 3
   },
   "file_extension": ".py",
   "mimetype": "text/x-python",
   "name": "python",
   "nbconvert_exporter": "python",
   "pygments_lexer": "ipython3",
   "version": "3.9.13"
  },
  "orig_nbformat": 4
 },
 "nbformat": 4,
 "nbformat_minor": 2
}
